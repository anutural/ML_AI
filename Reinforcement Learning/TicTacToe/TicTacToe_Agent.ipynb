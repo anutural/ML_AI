{
 "cells": [
  {
   "cell_type": "markdown",
   "metadata": {
    "colab_type": "text",
    "id": "rznSDgbvGggG"
   },
   "source": [
    "## Tic-Tac-Toe Agent"
   ]
  },
  {
   "cell_type": "markdown",
   "metadata": {
    "colab_type": "text",
    "id": "8eDb8PxBGggH"
   },
   "source": [
    "#### Importing libraries"
   ]
  },
  {
   "cell_type": "code",
   "execution_count": 6,
   "metadata": {
    "colab": {},
    "colab_type": "code",
    "id": "6SFNYceFGggJ"
   },
   "outputs": [],
   "source": [
    "import collections\n",
    "import numpy as np\n",
    "import random\n",
    "import pickle\n",
    "import time\n",
    "from matplotlib import pyplot as plt"
   ]
  },
  {
   "cell_type": "code",
   "execution_count": 7,
   "metadata": {},
   "outputs": [],
   "source": [
    "from TCGame_Env import TicTacToe"
   ]
  },
  {
   "cell_type": "code",
   "execution_count": 9,
   "metadata": {},
   "outputs": [
    {
     "data": {
      "text/plain": [
       "'1-2-3'"
      ]
     },
     "execution_count": 9,
     "metadata": {},
     "output_type": "execute_result"
    }
   ],
   "source": [
    "Q_state([1,2,3])"
   ]
  },
  {
   "cell_type": "code",
   "execution_count": 8,
   "metadata": {
    "colab": {},
    "colab_type": "code",
    "id": "wYLQyopEG8nz"
   },
   "outputs": [],
   "source": [
    "# Function to convert state array into a string to store it as keys in the dictionary\n",
    "# states in Q-dictionary will be of form: x-4-5-3-8-x-x-x-x\n",
    "#   x | 4 | 5\n",
    "#   ----------\n",
    "#   3 | 8 | x\n",
    "#   ----------\n",
    "#   x | x | x\n",
    "\n",
    "def Q_state(state):\n",
    "\n",
    "    return ('-'.join(str(e) for e in state)).replace('nan','x')"
   ]
  },
  {
   "cell_type": "code",
   "execution_count": 277,
   "metadata": {
    "colab": {},
    "colab_type": "code",
    "id": "ZebMOoiVHBBr"
   },
   "outputs": [],
   "source": [
    "# Defining a function which will return valid (all possible actions) actions corresponding to a state\n",
    "# Important to avoid errors during deployment.\n",
    "\n",
    "def valid_actions(state):\n",
    "\n",
    "    valid_Actions = []\n",
    "    \n",
    "    valid_Actions = [i for i in env.action_space(state)[0]] \n",
    "    return valid_Actions"
   ]
  },
  {
   "cell_type": "code",
   "execution_count": 228,
   "metadata": {
    "colab": {},
    "colab_type": "code",
    "id": "IRciPUkYHDWf"
   },
   "outputs": [],
   "source": [
    "# Defining a function which will add new Q-values to the Q-dictionary. \n",
    "def add_to_dict(state):\n",
    "    state1 = Q_state(state)\n",
    "    valid_act = valid_actions(state)\n",
    "    if state1 not in Q_dict.keys():\n",
    "        for action in valid_act:\n",
    "            Q_dict[state1][action]=0"
   ]
  },
  {
   "cell_type": "markdown",
   "metadata": {
    "colab_type": "text",
    "id": "fNNi_EfHGggM"
   },
   "source": [
    "#### Epsilon-greedy strategy\n",
    "\n"
   ]
  },
  {
   "cell_type": "markdown",
   "metadata": {},
   "source": [
    "Lets try out different stratagies for Epsilon decay and see the curve\n",
    "\n",
    "Better rate is such that in initial state policy should be more exploratory but in later state it starts becoming greedy"
   ]
  },
  {
   "cell_type": "code",
   "execution_count": 278,
   "metadata": {},
   "outputs": [
    {
     "data": {
      "image/png": "[encoded data removed]",
      "text/plain": [
       "<Figure size 432x288 with 1 Axes>"
      ]
     },
     "metadata": {
      "needs_background": "light"
     },
     "output_type": "display_data"
    }
   ],
   "source": [
    "epsilon_values_over_time = []\n",
    "for time in range(20000000):\n",
    "    epsilon = np.exp(-0.0000005*time)\n",
    "    epsilon_values_over_time.append(epsilon)\n",
    "\n",
    "plt.plot(epsilon_values_over_time)\n",
    "plt.show()"
   ]
  },
  {
   "cell_type": "code",
   "execution_count": 279,
   "metadata": {
    "scrolled": true
   },
   "outputs": [
    {
     "data": {
      "image/png": "[encoded data removed]",
      "text/plain": [
       "<Figure size 432x288 with 1 Axes>"
      ]
     },
     "metadata": {
      "needs_background": "light"
     },
     "output_type": "display_data"
    }
   ],
   "source": [
    "epsilon_values_over_time = []\n",
    "for time in range(20000000):\n",
    "    epsilon = - 1/ (1 + np.exp((-time+7500000)/1700000)) + 1\n",
    "    epsilon_values_over_time.append(epsilon)\n",
    "\n",
    "plt.plot(epsilon_values_over_time)\n",
    "plt.show()"
   ]
  },
  {
   "cell_type": "markdown",
   "metadata": {},
   "source": [
    "From above two graphs we can see, in second stratagy, in initial stage, there is more exploration happening in compare with the first graph and thus it is expected that using second logic of epsilon decay, we should be able to learn about more state-actions\n",
    "\n",
    "We will try out both of the stratagies anyways to compare the actual result"
   ]
  },
  {
   "cell_type": "code",
   "execution_count": 231,
   "metadata": {
    "colab": {},
    "colab_type": "code",
    "id": "m0lMfqiJGggN"
   },
   "outputs": [],
   "source": [
    "# Defining epsilon-greedy policy. You can choose any function epsilon-decay strategy\n",
    "# Defining epsilon-greedy policy.\n",
    "def epsilon_greedy_stratagy_1(state, time):\n",
    "    epsilon = np.exp(-0.0000005*time)\n",
    "    #Taking random number between 0 and 1\n",
    "    z = np.random.random()       \n",
    "    \n",
    "    if z > epsilon:\n",
    "        action = max(Q_dict[Q_state(state)],key=Q_dict[Q_state(state)].get)\n",
    "    else:\n",
    "        action = random.sample(valid_actions(state),1)[0]   \n",
    "    \n",
    "    return action"
   ]
  },
  {
   "cell_type": "code",
   "execution_count": 232,
   "metadata": {},
   "outputs": [],
   "source": [
    "# Defining epsilon-greedy policy. You can choose any function epsilon-decay strategy\n",
    "# Defining epsilon-greedy policy.\n",
    "def epsilon_greedy_stratagy_2(state, time):\n",
    "    epsilon = - 1/ (1 + np.exp((-time+7500000)/1700000)) + 1\n",
    "    #Taking random number between 0 and 1\n",
    "    z = np.random.random()       \n",
    "    \n",
    "    if z > epsilon:\n",
    "        action = max(Q_dict[Q_state(state)],key=Q_dict[Q_state(state)].get)\n",
    "    else:\n",
    "        action = random.sample(valid_actions(state),1)[0]   \n",
    "    \n",
    "    return action"
   ]
  },
  {
   "cell_type": "markdown",
   "metadata": {
    "colab_type": "text",
    "id": "H2kyQHOMGggR"
   },
   "source": [
    "#### Tracking the state-action pairs for checking convergence - write your code here"
   ]
  },
  {
   "cell_type": "code",
   "execution_count": 233,
   "metadata": {
    "colab": {},
    "colab_type": "code",
    "id": "qcxZ29vdGggS"
   },
   "outputs": [],
   "source": [
    "# Initialise Q_dictionary as 'Q_dict' and States_tracked as 'States_track' (for convergence)\n",
    "Q_dict = collections.defaultdict(dict)\n",
    "States_track =collections.defaultdict(dict)\n",
    "\n",
    "def reset_dictionaries():\n",
    "    Q_dict = collections.defaultdict(dict)\n",
    "    States_track =collections.defaultdict(dict)"
   ]
  },
  {
   "cell_type": "code",
   "execution_count": 234,
   "metadata": {},
   "outputs": [],
   "source": [
    "reset_dictionaries()"
   ]
  },
  {
   "cell_type": "code",
   "execution_count": 235,
   "metadata": {
    "colab": {},
    "colab_type": "code",
    "id": "vs73iv8fHOxV"
   },
   "outputs": [],
   "source": [
    "# Initialise few random states to be tracked\n",
    "def initialise_tracking_states():\n",
    "    States_track['3-x-x-2-x-x-x-x-x'][(5,5)] = [] #More likely to occur\n",
    "    States_track['4-x-x-5-x-x-x-x-x'][(8,7)] = [] #More likely to occur\n",
    "    \n",
    "    States_track['3-x-x-2-8-x-x-x-9'][(5,5)] = [] #Where Agent wins\n",
    "    States_track['5-x-7-x-2-x-x-x-6'][(1,3)] = [] #Where Agent wins\n",
    "    States_track['9-x-3-5-4-x-2-x-6'][(7,7)] = [] #Where Agent Wins (less likely to occur)\n",
    "\n",
    "    States_track['x-x-x-x-5-x-x-8-x'][(0,1)] = [] #Where Agent or Environment can win\n",
    "    \n",
    "    States_track['9-x-x-3-x-4-7-8-6'][(4,5)] = [] #Where Environment can win (less likely to occur)\n",
    "    States_track['3-x-4-x-2-x-8-7-5'][(3,1)] = [] #Where Environment can win (less likely to occur)\n",
    "    \n",
    "    States_track['x-1-7-2-6-3-8-5-4'][(0,9)] = [] #Where Tie (rarely occur)\n"
   ]
  },
  {
   "cell_type": "code",
   "execution_count": 236,
   "metadata": {
    "colab": {},
    "colab_type": "code",
    "id": "dAbwJDMVHpwl"
   },
   "outputs": [],
   "source": [
    "#Defining a function to save the Q-dictionary as a pickle file\n",
    "\n",
    "def save_pkl_file(obj, name ):\n",
    "    with open(name + '.pkl', 'wb') as f:\n",
    "        pickle.dump(obj, f, pickle.HIGHEST_PROTOCOL)"
   ]
  },
  {
   "cell_type": "code",
   "execution_count": 237,
   "metadata": {
    "colab": {},
    "colab_type": "code",
    "id": "6Pyj7nMVHsBi"
   },
   "outputs": [],
   "source": [
    "def save_states_track():\n",
    "    for state in States_track.keys():\n",
    "        for action in States_track[state].keys():\n",
    "            if state in Q_dict and action in Q_dict[state]:\n",
    "                States_track[state][action].append(Q_dict[state][action])"
   ]
  },
  {
   "cell_type": "code",
   "execution_count": 238,
   "metadata": {
    "colab": {},
    "colab_type": "code",
    "id": "B_8xSluUHvew"
   },
   "outputs": [],
   "source": [
    "initialise_tracking_states()"
   ]
  },
  {
   "cell_type": "markdown",
   "metadata": {
    "colab_type": "text",
    "id": "-iPt--E9GggV"
   },
   "source": [
    "#### Define hyperparameters "
   ]
  },
  {
   "cell_type": "code",
   "execution_count": 239,
   "metadata": {
    "colab": {},
    "colab_type": "code",
    "id": "G0_f5czFGggW"
   },
   "outputs": [],
   "source": [
    "EPISODES = 20000000\n",
    "learning_rate = 0.10\n",
    "GAMMA = 0.9\n",
    "episodes_to_save = 2500\n",
    "chunk_size = int(EPISODES / 100)"
   ]
  },
  {
   "cell_type": "markdown",
   "metadata": {
    "colab_type": "text",
    "id": "Md6twJ7wGggh"
   },
   "source": [
    "### Q-update loop "
   ]
  },
  {
   "cell_type": "code",
   "execution_count": 240,
   "metadata": {
    "colab": {},
    "colab_type": "code",
    "id": "ldCgQuDNGggj"
   },
   "outputs": [
    {
     "name": "stdout",
     "output_type": "stream",
     "text": [
      "Chunk Number 1  Win Count: 50180  Loss Count: 57046  Tie Count: 92774  Total reward in Chunk: -743526\n",
      "Chunk Number 2  Win Count: 51982  Loss Count: 56040  Tie Count: 91978  Total reward in Chunk: -713345\n",
      "Chunk Number 3  Win Count: 55968  Loss Count: 54025  Tie Count: 90007  Total reward in Chunk: -647920\n",
      "Chunk Number 4  Win Count: 64998  Loss Count: 50510  Tie Count: 84492  Total reward in Chunk: -509851\n",
      "Chunk Number 5  Win Count: 74931  Loss Count: 47030  Tie Count: 78039  Total reward in Chunk: -359122\n",
      "Chunk Number 6  Win Count: 85599  Loss Count: 43101  Tie Count: 71300  Total reward in Chunk: -195120\n",
      "Chunk Number 7  Win Count: 96776  Loss Count: 39349  Tie Count: 63875  Total reward in Chunk: -27434\n",
      "Chunk Number 8  Win Count: 106493  Loss Count: 35840  Tie Count: 57667  Total reward in Chunk: 120846\n",
      "Chunk Number 9  Win Count: 115856  Loss Count: 32465  Tie Count: 51679  Total reward in Chunk: 263388\n",
      "Chunk Number 10  Win Count: 125089  Loss Count: 29204  Tie Count: 45707  Total reward in Chunk: 403978\n",
      "Chunk Number 11  Win Count: 132176  Loss Count: 26766  Tie Count: 41058  Total reward in Chunk: 511537\n",
      "Chunk Number 12  Win Count: 139469  Loss Count: 23961  Tie Count: 36570  Total reward in Chunk: 624389\n",
      "Chunk Number 13  Win Count: 145864  Loss Count: 21383  Tie Count: 32753  Total reward in Chunk: 724232\n",
      "Chunk Number 14  Win Count: 151485  Loss Count: 19310  Tie Count: 29205  Total reward in Chunk: 811296\n",
      "Chunk Number 15  Win Count: 156365  Loss Count: 17453  Tie Count: 26182  Total reward in Chunk: 886483\n",
      "Chunk Number 16  Win Count: 160101  Loss Count: 15929  Tie Count: 23970  Total reward in Chunk: 946080\n",
      "Chunk Number 17  Win Count: 163998  Loss Count: 14431  Tie Count: 21571  Total reward in Chunk: 1007041\n",
      "Chunk Number 18  Win Count: 167639  Loss Count: 13013  Tie Count: 19348  Total reward in Chunk: 1064283\n",
      "Chunk Number 19  Win Count: 170754  Loss Count: 11931  Tie Count: 17315  Total reward in Chunk: 1111133\n",
      "Chunk Number 20  Win Count: 173225  Loss Count: 10736  Tie Count: 16039  Total reward in Chunk: 1150171\n",
      "Chunk Number 21  Win Count: 175756  Loss Count: 9405  Tie Count: 14839  Total reward in Chunk: 1189391\n",
      "Chunk Number 22  Win Count: 177507  Loss Count: 8747  Tie Count: 13746  Total reward in Chunk: 1217602\n",
      "Chunk Number 23  Win Count: 179275  Loss Count: 7963  Tie Count: 12762  Total reward in Chunk: 1243564\n",
      "Chunk Number 24  Win Count: 180612  Loss Count: 7561  Tie Count: 11827  Total reward in Chunk: 1263926\n",
      "Chunk Number 25  Win Count: 182541  Loss Count: 6658  Tie Count: 10801  Total reward in Chunk: 1293189\n",
      "Chunk Number 26  Win Count: 183736  Loss Count: 5908  Tie Count: 10356  Total reward in Chunk: 1311255\n",
      "Chunk Number 27  Win Count: 185154  Loss Count: 5492  Tie Count: 9354  Total reward in Chunk: 1333500\n",
      "Chunk Number 28  Win Count: 186507  Loss Count: 4754  Tie Count: 8739  Total reward in Chunk: 1353772\n",
      "Chunk Number 29  Win Count: 187450  Loss Count: 4563  Tie Count: 7987  Total reward in Chunk: 1368060\n",
      "Chunk Number 30  Win Count: 187990  Loss Count: 4238  Tie Count: 7772  Total reward in Chunk: 1376057\n",
      "Chunk Number 31  Win Count: 188103  Loss Count: 4365  Tie Count: 7532  Total reward in Chunk: 1377834\n",
      "Chunk Number 32  Win Count: 189524  Loss Count: 3443  Tie Count: 7033  Total reward in Chunk: 1397664\n",
      "Chunk Number 33  Win Count: 190163  Loss Count: 3205  Tie Count: 6632  Total reward in Chunk: 1406288\n",
      "Chunk Number 34  Win Count: 191208  Loss Count: 2516  Tie Count: 6276  Total reward in Chunk: 1421793\n",
      "Chunk Number 35  Win Count: 191562  Loss Count: 2365  Tie Count: 6073  Total reward in Chunk: 1426886\n",
      "Chunk Number 36  Win Count: 192022  Loss Count: 2044  Tie Count: 5934  Total reward in Chunk: 1432357\n",
      "Chunk Number 37  Win Count: 192146  Loss Count: 2409  Tie Count: 5445  Total reward in Chunk: 1434910\n",
      "Chunk Number 38  Win Count: 192594  Loss Count: 2054  Tie Count: 5352  Total reward in Chunk: 1441087\n",
      "Chunk Number 39  Win Count: 192999  Loss Count: 2015  Tie Count: 4986  Total reward in Chunk: 1446792\n",
      "Chunk Number 40  Win Count: 193477  Loss Count: 1856  Tie Count: 4667  Total reward in Chunk: 1454457\n",
      "Chunk Number 41  Win Count: 193790  Loss Count: 1554  Tie Count: 4656  Total reward in Chunk: 1459543\n",
      "Chunk Number 42  Win Count: 193237  Loss Count: 2449  Tie Count: 4314  Total reward in Chunk: 1453549\n",
      "Chunk Number 43  Win Count: 193636  Loss Count: 2039  Tie Count: 4325  Total reward in Chunk: 1458491\n",
      "Chunk Number 44  Win Count: 194506  Loss Count: 1245  Tie Count: 4249  Total reward in Chunk: 1469765\n",
      "Chunk Number 45  Win Count: 195073  Loss Count: 906  Tie Count: 4021  Total reward in Chunk: 1477472\n",
      "Chunk Number 46  Win Count: 194785  Loss Count: 1292  Tie Count: 3923  Total reward in Chunk: 1474506\n",
      "Chunk Number 47  Win Count: 195215  Loss Count: 976  Tie Count: 3809  Total reward in Chunk: 1480007\n",
      "Chunk Number 48  Win Count: 195644  Loss Count: 785  Tie Count: 3571  Total reward in Chunk: 1484828\n",
      "Chunk Number 49  Win Count: 195505  Loss Count: 994  Tie Count: 3501  Total reward in Chunk: 1483648\n",
      "Chunk Number 50  Win Count: 195837  Loss Count: 679  Tie Count: 3484  Total reward in Chunk: 1487560\n",
      "Chunk Number 51  Win Count: 196267  Loss Count: 444  Tie Count: 3289  Total reward in Chunk: 1493216\n",
      "Chunk Number 52  Win Count: 196300  Loss Count: 473  Tie Count: 3227  Total reward in Chunk: 1493722\n",
      "Chunk Number 53  Win Count: 196034  Loss Count: 855  Tie Count: 3111  Total reward in Chunk: 1491698\n",
      "Chunk Number 54  Win Count: 196424  Loss Count: 560  Tie Count: 3016  Total reward in Chunk: 1495798\n",
      "Chunk Number 55  Win Count: 196442  Loss Count: 656  Tie Count: 2902  Total reward in Chunk: 1496583\n",
      "Chunk Number 56  Win Count: 196568  Loss Count: 512  Tie Count: 2920  Total reward in Chunk: 1497368\n",
      "Chunk Number 57  Win Count: 196815  Loss Count: 293  Tie Count: 2892  Total reward in Chunk: 1500925\n",
      "Chunk Number 58  Win Count: 196606  Loss Count: 600  Tie Count: 2794  Total reward in Chunk: 1498744\n",
      "Chunk Number 59  Win Count: 196804  Loss Count: 414  Tie Count: 2782  Total reward in Chunk: 1501362\n",
      "Chunk Number 60  Win Count: 196979  Loss Count: 212  Tie Count: 2809  Total reward in Chunk: 1502996\n",
      "Chunk Number 61  Win Count: 197009  Loss Count: 206  Tie Count: 2785  Total reward in Chunk: 1504010\n",
      "Chunk Number 62  Win Count: 197167  Loss Count: 187  Tie Count: 2646  Total reward in Chunk: 1506012\n",
      "Chunk Number 63  Win Count: 196891  Loss Count: 332  Tie Count: 2777  Total reward in Chunk: 1502894\n",
      "Chunk Number 64  Win Count: 196748  Loss Count: 740  Tie Count: 2512  Total reward in Chunk: 1501123\n",
      "Chunk Number 65  Win Count: 197242  Loss Count: 229  Tie Count: 2529  Total reward in Chunk: 1506618\n",
      "Chunk Number 66  Win Count: 197205  Loss Count: 121  Tie Count: 2674  Total reward in Chunk: 1507016\n",
      "Chunk Number 67  Win Count: 197028  Loss Count: 312  Tie Count: 2660  Total reward in Chunk: 1504530\n",
      "Chunk Number 68  Win Count: 197083  Loss Count: 371  Tie Count: 2546  Total reward in Chunk: 1505926\n",
      "Chunk Number 69  Win Count: 197166  Loss Count: 169  Tie Count: 2665  Total reward in Chunk: 1506244\n",
      "Chunk Number 70  Win Count: 197255  Loss Count: 76  Tie Count: 2669  Total reward in Chunk: 1507163\n",
      "Chunk Number 71  Win Count: 197210  Loss Count: 271  Tie Count: 2519  Total reward in Chunk: 1506972\n",
      "Chunk Number 72  Win Count: 197319  Loss Count: 115  Tie Count: 2566  Total reward in Chunk: 1508287\n",
      "Chunk Number 73  Win Count: 197356  Loss Count: 47  Tie Count: 2597  Total reward in Chunk: 1508779\n",
      "Chunk Number 74  Win Count: 197308  Loss Count: 62  Tie Count: 2630  Total reward in Chunk: 1508703\n",
      "Chunk Number 75  Win Count: 197357  Loss Count: 43  Tie Count: 2600  Total reward in Chunk: 1508627\n",
      "Chunk Number 76  Win Count: 197404  Loss Count: 29  Tie Count: 2567  Total reward in Chunk: 1509382\n",
      "Chunk Number 77  Win Count: 197408  Loss Count: 40  Tie Count: 2552  Total reward in Chunk: 1509304\n",
      "Chunk Number 78  Win Count: 197407  Loss Count: 107  Tie Count: 2486  Total reward in Chunk: 1508862\n",
      "Chunk Number 79  Win Count: 197534  Loss Count: 42  Tie Count: 2424  Total reward in Chunk: 1511095\n",
      "Chunk Number 80  Win Count: 197451  Loss Count: 75  Tie Count: 2474  Total reward in Chunk: 1509640\n",
      "Chunk Number 81  Win Count: 197552  Loss Count: 13  Tie Count: 2435  Total reward in Chunk: 1510754\n"
     ]
    },
    {
     "name": "stdout",
     "output_type": "stream",
     "text": [
      "Chunk Number 82  Win Count: 197517  Loss Count: 12  Tie Count: 2471  Total reward in Chunk: 1510979\n",
      "Chunk Number 83  Win Count: 197522  Loss Count: 18  Tie Count: 2460  Total reward in Chunk: 1510874\n",
      "Chunk Number 84  Win Count: 197529  Loss Count: 19  Tie Count: 2452  Total reward in Chunk: 1510991\n",
      "Chunk Number 85  Win Count: 197605  Loss Count: 7  Tie Count: 2388  Total reward in Chunk: 1512001\n",
      "Chunk Number 86  Win Count: 197641  Loss Count: 10  Tie Count: 2349  Total reward in Chunk: 1511982\n",
      "Chunk Number 87  Win Count: 197488  Loss Count: 18  Tie Count: 2494  Total reward in Chunk: 1510473\n",
      "Chunk Number 88  Win Count: 197648  Loss Count: 17  Tie Count: 2335  Total reward in Chunk: 1512404\n",
      "Chunk Number 89  Win Count: 197498  Loss Count: 12  Tie Count: 2490  Total reward in Chunk: 1510574\n",
      "Chunk Number 90  Win Count: 197487  Loss Count: 16  Tie Count: 2497  Total reward in Chunk: 1510711\n",
      "Chunk Number 91  Win Count: 197676  Loss Count: 13  Tie Count: 2311  Total reward in Chunk: 1512333\n",
      "Chunk Number 92  Win Count: 197587  Loss Count: 5  Tie Count: 2408  Total reward in Chunk: 1511695\n",
      "Chunk Number 93  Win Count: 197616  Loss Count: 7  Tie Count: 2377  Total reward in Chunk: 1511965\n",
      "Chunk Number 94  Win Count: 197651  Loss Count: 17  Tie Count: 2332  Total reward in Chunk: 1512348\n",
      "Chunk Number 95  Win Count: 197573  Loss Count: 7  Tie Count: 2420  Total reward in Chunk: 1511382\n",
      "Chunk Number 96  Win Count: 197685  Loss Count: 4  Tie Count: 2311  Total reward in Chunk: 1512761\n",
      "Chunk Number 97  Win Count: 197627  Loss Count: 3  Tie Count: 2370  Total reward in Chunk: 1511741\n",
      "Chunk Number 98  Win Count: 197627  Loss Count: 0  Tie Count: 2373  Total reward in Chunk: 1512391\n",
      "Chunk Number 99  Win Count: 197619  Loss Count: 4  Tie Count: 2377  Total reward in Chunk: 1511130\n",
      "Chunk Number 100  Win Count: 197768  Loss Count: 5  Tie Count: 2227  Total reward in Chunk: 1513759\n"
     ]
    }
   ],
   "source": [
    "chunk_count = 0\n",
    "\n",
    "total_reward = 0\n",
    "reward_in_chunk = 0\n",
    "    \n",
    "win_count = 0\n",
    "loss_count = 0\n",
    "tie_count = 0\n",
    "\n",
    "for episode in range(EPISODES):\n",
    "    env = TicTacToe()\n",
    "    \n",
    "    reward=0\n",
    "    curr_state = env.state\n",
    "    \n",
    "    add_to_dict(curr_state)\n",
    "    \n",
    "    terminal = False\n",
    "\n",
    "    \n",
    "    while not(terminal):\n",
    "        curr_action = epsilon_greedy_stratagy_1(curr_state, episode)\n",
    "        \n",
    "        next_state,reward,terminal = env.step(curr_state,curr_action) \n",
    "        \n",
    "        curr_state_str = Q_state(curr_state)\n",
    "        next_state_str = Q_state(next_state)\n",
    "        \n",
    "\n",
    "        if terminal:\n",
    "            q_value = 0\n",
    "            \n",
    "            # Tracking the count of games won by agent and environment\n",
    "            if reward == 10:\n",
    "                win_count += 1\n",
    "            elif reward == -10:\n",
    "                loss_count += 1\n",
    "            else:\n",
    "                tie_count += 1\n",
    "        else:\n",
    "            add_to_dict(next_state)\n",
    "            action_max_q_val = max(Q_dict[next_state_str],key=Q_dict[next_state_str].get)\n",
    "            q_value = Q_dict[next_state_str][action_max_q_val]\n",
    "\n",
    "        Q_dict[curr_state_str][curr_action] += learning_rate * ((reward + (GAMMA * (q_value))) - Q_dict[curr_state_str][curr_action]) \n",
    "        curr_state = next_state\n",
    "\n",
    "        total_reward += reward\n",
    "        reward_in_chunk += reward\n",
    "\n",
    "    if (episode + 1) % chunk_size == 0:\n",
    "        chunk_count += 1\n",
    "        print(\"Chunk Number\", chunk_count, \" Win Count:\", win_count, \" Loss Count:\", loss_count, \" Tie Count:\", tie_count, \" Total reward in Chunk:\", reward_in_chunk)\n",
    "        win_count = loss_count = tie_count = reward_in_chunk =0\n",
    "        \n",
    "\n",
    "    if ((episode + 1) % episodes_to_save) == 0:   \n",
    "        save_states_track()\n",
    "\n",
    "save_pkl_file(States_track,'States_tracked_st1')   \n",
    "save_pkl_file(Q_dict,'Policy_st1')"
   ]
  },
  {
   "cell_type": "markdown",
   "metadata": {
    "colab_type": "text",
    "id": "t6eMFbb8Ggg2"
   },
   "source": [
    "#### Check the Q-dictionary"
   ]
  },
  {
   "cell_type": "code",
   "execution_count": 241,
   "metadata": {
    "colab": {},
    "colab_type": "code",
    "id": "F1tnDJWkGgg9"
   },
   "outputs": [
    {
     "data": {
      "text/plain": [
       "1728903"
      ]
     },
     "execution_count": 241,
     "metadata": {},
     "output_type": "execute_result"
    }
   ],
   "source": [
    "len(Q_dict)"
   ]
  },
  {
   "cell_type": "code",
   "execution_count": 242,
   "metadata": {
    "colab": {},
    "colab_type": "code",
    "id": "cFgUqfcQGghB",
    "scrolled": true
   },
   "outputs": [
    {
     "data": {
      "text/plain": [
       "{(1, 1): -0.1,\n",
       " (1, 3): 0,\n",
       " (1, 9): 0,\n",
       " (3, 1): 0,\n",
       " (3, 3): 0,\n",
       " (3, 9): 0,\n",
       " (5, 1): 0,\n",
       " (5, 3): -0.1,\n",
       " (5, 9): 0,\n",
       " (6, 1): 0,\n",
       " (6, 3): -0.19,\n",
       " (6, 9): 0,\n",
       " (7, 1): 0,\n",
       " (7, 3): 0,\n",
       " (7, 9): 0}"
      ]
     },
     "execution_count": 242,
     "metadata": {},
     "output_type": "execute_result"
    }
   ],
   "source": [
    "# try checking for one of the states - that which action your agent thinks is the best  -----This will not be evaluated\n",
    "#  5 |   | 7\n",
    "# -  -   -\n",
    "#   | 2 | \n",
    "# -  -  -\n",
    "#  |   | 6\n",
    "\n",
    "Q_dict['5-x-7-x-2-x-x-x-6']"
   ]
  },
  {
   "cell_type": "markdown",
   "metadata": {},
   "source": [
    "From above Q-Table result, we can get sense that even after 20 millions episod this state '5-x-7-x-2-x-x-x-6' isn't been learnt properly\n",
    "\n",
    "This indicates that our learning was more exploitation of already known state-actions and not enouth exploration has been done."
   ]
  },
  {
   "cell_type": "markdown",
   "metadata": {
    "colab_type": "text",
    "id": "b2Opp8_NITkC"
   },
   "source": [
    "### Learning with stratagy 2"
   ]
  },
  {
   "cell_type": "code",
   "execution_count": 245,
   "metadata": {},
   "outputs": [],
   "source": [
    "reset_dictionaries()\n",
    "initialise_tracking_states()"
   ]
  },
  {
   "cell_type": "code",
   "execution_count": 246,
   "metadata": {},
   "outputs": [
    {
     "name": "stdout",
     "output_type": "stream",
     "text": [
      "Chunk Number 1  Win Count: 50729  Loss Count: 56970  Tie Count: 92301  Total reward in Chunk: -736266\n",
      "Chunk Number 2  Win Count: 50835  Loss Count: 56633  Tie Count: 92532  Total reward in Chunk: -732227\n",
      "Chunk Number 3  Win Count: 51042  Loss Count: 56831  Tie Count: 92127  Total reward in Chunk: -731017\n",
      "Chunk Number 4  Win Count: 51227  Loss Count: 56675  Tie Count: 92098  Total reward in Chunk: -727302\n",
      "Chunk Number 5  Win Count: 51287  Loss Count: 56421  Tie Count: 92292  Total reward in Chunk: -724501\n",
      "Chunk Number 6  Win Count: 51415  Loss Count: 56544  Tie Count: 92041  Total reward in Chunk: -723321\n",
      "Chunk Number 7  Win Count: 51764  Loss Count: 56152  Tie Count: 92084  Total reward in Chunk: -716398\n",
      "Chunk Number 8  Win Count: 52164  Loss Count: 56109  Tie Count: 91727  Total reward in Chunk: -711278\n",
      "Chunk Number 9  Win Count: 53062  Loss Count: 55924  Tie Count: 91014  Total reward in Chunk: -699794\n",
      "Chunk Number 10  Win Count: 53114  Loss Count: 55980  Tie Count: 90906  Total reward in Chunk: -699074\n",
      "Chunk Number 11  Win Count: 53567  Loss Count: 55838  Tie Count: 90595  Total reward in Chunk: -692436\n",
      "Chunk Number 12  Win Count: 54386  Loss Count: 55425  Tie Count: 90189  Total reward in Chunk: -679232\n",
      "Chunk Number 13  Win Count: 54923  Loss Count: 54987  Tie Count: 90090  Total reward in Chunk: -669273\n",
      "Chunk Number 14  Win Count: 55617  Loss Count: 55047  Tie Count: 89336  Total reward in Chunk: -661329\n",
      "Chunk Number 15  Win Count: 56430  Loss Count: 54439  Tie Count: 89131  Total reward in Chunk: -646110\n",
      "Chunk Number 16  Win Count: 57175  Loss Count: 54273  Tie Count: 88552  Total reward in Chunk: -636074\n",
      "Chunk Number 17  Win Count: 58219  Loss Count: 53904  Tie Count: 87877  Total reward in Chunk: -620398\n",
      "Chunk Number 18  Win Count: 59283  Loss Count: 53412  Tie Count: 87305  Total reward in Chunk: -603513\n",
      "Chunk Number 19  Win Count: 60778  Loss Count: 52790  Tie Count: 86432  Total reward in Chunk: -580742\n",
      "Chunk Number 20  Win Count: 62124  Loss Count: 52725  Tie Count: 85151  Total reward in Chunk: -563764\n",
      "Chunk Number 21  Win Count: 63499  Loss Count: 52060  Tie Count: 84441  Total reward in Chunk: -541702\n",
      "Chunk Number 22  Win Count: 65163  Loss Count: 51577  Tie Count: 83260  Total reward in Chunk: -517850\n",
      "Chunk Number 23  Win Count: 67316  Loss Count: 50218  Tie Count: 82466  Total reward in Chunk: -480975\n",
      "Chunk Number 24  Win Count: 69368  Loss Count: 49833  Tie Count: 80799  Total reward in Chunk: -452806\n",
      "Chunk Number 25  Win Count: 71998  Loss Count: 48701  Tie Count: 79301  Total reward in Chunk: -412401\n",
      "Chunk Number 26  Win Count: 74497  Loss Count: 48104  Tie Count: 77399  Total reward in Chunk: -377530\n",
      "Chunk Number 27  Win Count: 77495  Loss Count: 46436  Tie Count: 76069  Total reward in Chunk: -327810\n",
      "Chunk Number 28  Win Count: 80386  Loss Count: 45662  Tie Count: 73952  Total reward in Chunk: -286608\n",
      "Chunk Number 29  Win Count: 84011  Loss Count: 44194  Tie Count: 71795  Total reward in Chunk: -231048\n",
      "Chunk Number 30  Win Count: 87650  Loss Count: 42855  Tie Count: 69495  Total reward in Chunk: -176616\n",
      "Chunk Number 31  Win Count: 91731  Loss Count: 41390  Tie Count: 66879  Total reward in Chunk: -114981\n",
      "Chunk Number 32  Win Count: 95782  Loss Count: 39804  Tie Count: 64414  Total reward in Chunk: -52735\n",
      "Chunk Number 33  Win Count: 100016  Loss Count: 38079  Tie Count: 61905  Total reward in Chunk: 11918\n",
      "Chunk Number 34  Win Count: 103864  Loss Count: 36517  Tie Count: 59619  Total reward in Chunk: 71862\n",
      "Chunk Number 35  Win Count: 108700  Loss Count: 35061  Tie Count: 56239  Total reward in Chunk: 142431\n",
      "Chunk Number 36  Win Count: 113304  Loss Count: 32902  Tie Count: 53794  Total reward in Chunk: 215655\n",
      "Chunk Number 37  Win Count: 118001  Loss Count: 31124  Tie Count: 50875  Total reward in Chunk: 287729\n",
      "Chunk Number 38  Win Count: 123009  Loss Count: 29089  Tie Count: 47902  Total reward in Chunk: 365014\n",
      "Chunk Number 39  Win Count: 127902  Loss Count: 27064  Tie Count: 45034  Total reward in Chunk: 440398\n",
      "Chunk Number 40  Win Count: 132293  Loss Count: 25423  Tie Count: 42284  Total reward in Chunk: 508349\n",
      "Chunk Number 41  Win Count: 137466  Loss Count: 23273  Tie Count: 39261  Total reward in Chunk: 589014\n",
      "Chunk Number 42  Win Count: 141878  Loss Count: 21713  Tie Count: 36409  Total reward in Chunk: 656029\n",
      "Chunk Number 43  Win Count: 145949  Loss Count: 20130  Tie Count: 33921  Total reward in Chunk: 717987\n",
      "Chunk Number 44  Win Count: 150112  Loss Count: 18576  Tie Count: 31312  Total reward in Chunk: 782974\n",
      "Chunk Number 45  Win Count: 154230  Loss Count: 16902  Tie Count: 28868  Total reward in Chunk: 847128\n",
      "Chunk Number 46  Win Count: 158027  Loss Count: 15514  Tie Count: 26459  Total reward in Chunk: 903982\n",
      "Chunk Number 47  Win Count: 161368  Loss Count: 14171  Tie Count: 24461  Total reward in Chunk: 956870\n",
      "Chunk Number 48  Win Count: 164477  Loss Count: 13065  Tie Count: 22458  Total reward in Chunk: 1004938\n",
      "Chunk Number 49  Win Count: 168233  Loss Count: 11579  Tie Count: 20188  Total reward in Chunk: 1061858\n",
      "Chunk Number 50  Win Count: 170278  Loss Count: 10799  Tie Count: 18923  Total reward in Chunk: 1095164\n",
      "Chunk Number 51  Win Count: 173177  Loss Count: 9637  Tie Count: 17186  Total reward in Chunk: 1137777\n",
      "Chunk Number 52  Win Count: 175730  Loss Count: 8842  Tie Count: 15428  Total reward in Chunk: 1177910\n",
      "Chunk Number 53  Win Count: 177739  Loss Count: 8113  Tie Count: 14148  Total reward in Chunk: 1207692\n",
      "Chunk Number 54  Win Count: 179434  Loss Count: 7537  Tie Count: 13029  Total reward in Chunk: 1235104\n",
      "Chunk Number 55  Win Count: 181525  Loss Count: 6807  Tie Count: 11668  Total reward in Chunk: 1267651\n",
      "Chunk Number 56  Win Count: 183096  Loss Count: 6228  Tie Count: 10676  Total reward in Chunk: 1290555\n",
      "Chunk Number 57  Win Count: 185467  Loss Count: 5182  Tie Count: 9351  Total reward in Chunk: 1325987\n",
      "Chunk Number 58  Win Count: 186435  Loss Count: 4889  Tie Count: 8676  Total reward in Chunk: 1341124\n",
      "Chunk Number 59  Win Count: 187467  Loss Count: 4543  Tie Count: 7990  Total reward in Chunk: 1357196\n",
      "Chunk Number 60  Win Count: 189372  Loss Count: 3648  Tie Count: 6980  Total reward in Chunk: 1383070\n",
      "Chunk Number 61  Win Count: 190258  Loss Count: 3401  Tie Count: 6341  Total reward in Chunk: 1397037\n",
      "Chunk Number 62  Win Count: 191310  Loss Count: 2967  Tie Count: 5723  Total reward in Chunk: 1413487\n",
      "Chunk Number 63  Win Count: 191803  Loss Count: 2759  Tie Count: 5438  Total reward in Chunk: 1422691\n",
      "Chunk Number 64  Win Count: 192311  Loss Count: 2829  Tie Count: 4860  Total reward in Chunk: 1430726\n",
      "Chunk Number 65  Win Count: 192960  Loss Count: 2530  Tie Count: 4510  Total reward in Chunk: 1440689\n",
      "Chunk Number 66  Win Count: 193903  Loss Count: 2099  Tie Count: 3998  Total reward in Chunk: 1452376\n",
      "Chunk Number 67  Win Count: 194275  Loss Count: 1906  Tie Count: 3819  Total reward in Chunk: 1460435\n",
      "Chunk Number 68  Win Count: 194997  Loss Count: 1677  Tie Count: 3326  Total reward in Chunk: 1468550\n",
      "Chunk Number 69  Win Count: 195450  Loss Count: 1558  Tie Count: 2992  Total reward in Chunk: 1475472\n",
      "Chunk Number 70  Win Count: 195419  Loss Count: 1667  Tie Count: 2914  Total reward in Chunk: 1478070\n",
      "Chunk Number 71  Win Count: 195685  Loss Count: 1613  Tie Count: 2702  Total reward in Chunk: 1482782\n",
      "Chunk Number 72  Win Count: 196454  Loss Count: 1047  Tie Count: 2499  Total reward in Chunk: 1489640\n",
      "Chunk Number 73  Win Count: 196721  Loss Count: 1097  Tie Count: 2182  Total reward in Chunk: 1495899\n",
      "Chunk Number 74  Win Count: 196934  Loss Count: 995  Tie Count: 2071  Total reward in Chunk: 1498672\n",
      "Chunk Number 75  Win Count: 197341  Loss Count: 798  Tie Count: 1861  Total reward in Chunk: 1502612\n",
      "Chunk Number 76  Win Count: 197730  Loss Count: 629  Tie Count: 1641  Total reward in Chunk: 1507605\n",
      "Chunk Number 77  Win Count: 197840  Loss Count: 570  Tie Count: 1590  Total reward in Chunk: 1509464\n",
      "Chunk Number 78  Win Count: 198093  Loss Count: 525  Tie Count: 1382  Total reward in Chunk: 1513291\n",
      "Chunk Number 79  Win Count: 198220  Loss Count: 436  Tie Count: 1344  Total reward in Chunk: 1515655\n",
      "Chunk Number 80  Win Count: 198298  Loss Count: 428  Tie Count: 1274  Total reward in Chunk: 1516811\n"
     ]
    },
    {
     "name": "stdout",
     "output_type": "stream",
     "text": [
      "Chunk Number 81  Win Count: 198322  Loss Count: 450  Tie Count: 1228  Total reward in Chunk: 1516867\n",
      "Chunk Number 82  Win Count: 198456  Loss Count: 420  Tie Count: 1124  Total reward in Chunk: 1519903\n",
      "Chunk Number 83  Win Count: 198452  Loss Count: 346  Tie Count: 1202  Total reward in Chunk: 1517883\n",
      "Chunk Number 84  Win Count: 198816  Loss Count: 236  Tie Count: 948  Total reward in Chunk: 1524192\n",
      "Chunk Number 85  Win Count: 198657  Loss Count: 293  Tie Count: 1050  Total reward in Chunk: 1520658\n",
      "Chunk Number 86  Win Count: 198800  Loss Count: 243  Tie Count: 957  Total reward in Chunk: 1523397\n",
      "Chunk Number 87  Win Count: 198890  Loss Count: 204  Tie Count: 906  Total reward in Chunk: 1525292\n",
      "Chunk Number 88  Win Count: 198893  Loss Count: 214  Tie Count: 893  Total reward in Chunk: 1525509\n",
      "Chunk Number 89  Win Count: 198932  Loss Count: 178  Tie Count: 890  Total reward in Chunk: 1524729\n",
      "Chunk Number 90  Win Count: 198921  Loss Count: 194  Tie Count: 885  Total reward in Chunk: 1524077\n",
      "Chunk Number 91  Win Count: 199051  Loss Count: 143  Tie Count: 806  Total reward in Chunk: 1525819\n",
      "Chunk Number 92  Win Count: 199125  Loss Count: 102  Tie Count: 773  Total reward in Chunk: 1526174\n",
      "Chunk Number 93  Win Count: 199038  Loss Count: 153  Tie Count: 809  Total reward in Chunk: 1525781\n",
      "Chunk Number 94  Win Count: 199269  Loss Count: 74  Tie Count: 657  Total reward in Chunk: 1528489\n",
      "Chunk Number 95  Win Count: 199085  Loss Count: 127  Tie Count: 788  Total reward in Chunk: 1527064\n",
      "Chunk Number 96  Win Count: 199165  Loss Count: 78  Tie Count: 757  Total reward in Chunk: 1527350\n",
      "Chunk Number 97  Win Count: 199088  Loss Count: 149  Tie Count: 763  Total reward in Chunk: 1526725\n",
      "Chunk Number 98  Win Count: 199111  Loss Count: 176  Tie Count: 713  Total reward in Chunk: 1527240\n",
      "Chunk Number 99  Win Count: 199272  Loss Count: 70  Tie Count: 658  Total reward in Chunk: 1528449\n",
      "Chunk Number 100  Win Count: 199147  Loss Count: 94  Tie Count: 759  Total reward in Chunk: 1528602\n"
     ]
    }
   ],
   "source": [
    "chunk_count = 0\n",
    "\n",
    "total_reward = 0\n",
    "reward_in_chunk = 0\n",
    "    \n",
    "win_count = 0\n",
    "loss_count = 0\n",
    "tie_count = 0\n",
    "\n",
    "for episode in range(EPISODES):\n",
    "    env = TicTacToe()\n",
    "    \n",
    "    reward=0\n",
    "    curr_state = env.state\n",
    "    \n",
    "    add_to_dict(curr_state)\n",
    "    \n",
    "    terminal = False\n",
    "\n",
    "    \n",
    "    while not(terminal):\n",
    "        curr_action = epsilon_greedy_stratagy_2(curr_state, episode)\n",
    "        \n",
    "        next_state,reward,terminal = env.step(curr_state,curr_action) \n",
    "        \n",
    "        curr_state_str = Q_state(curr_state)\n",
    "        next_state_str = Q_state(next_state)\n",
    "        \n",
    "        if terminal:\n",
    "            q_value = 0\n",
    "            \n",
    "            if reward == 10:\n",
    "                win_count += 1\n",
    "            elif reward == -10:\n",
    "                loss_count += 1\n",
    "            else:\n",
    "                tie_count += 1\n",
    "        else:\n",
    "            add_to_dict(next_state)\n",
    "            action_max_q_val = max(Q_dict[next_state_str],key=Q_dict[next_state_str].get)\n",
    "            q_value = Q_dict[next_state_str][action_max_q_val]\n",
    "\n",
    "        Q_dict[curr_state_str][curr_action] += learning_rate * ((reward + (GAMMA * (q_value))) - Q_dict[curr_state_str][curr_action]) \n",
    "        curr_state = next_state\n",
    "\n",
    "        total_reward += reward\n",
    "        reward_in_chunk += reward\n",
    "\n",
    "    if (episode + 1) % chunk_size == 0:\n",
    "        chunk_count += 1\n",
    "        print(\"Chunk Number\", chunk_count, \" Win Count:\", win_count, \" Loss Count:\", loss_count, \" Tie Count:\", tie_count, \" Total reward in Chunk:\", reward_in_chunk)\n",
    "        win_count = loss_count = tie_count = reward_in_chunk =0\n",
    "        \n",
    "\n",
    "    if ((episode + 1) % episodes_to_save) == 0:   \n",
    "        save_states_track()\n",
    "\n",
    "save_pkl_file(States_track,'States_tracked_st2')   \n",
    "save_pkl_file(Q_dict,'Policy_st2')"
   ]
  },
  {
   "cell_type": "code",
   "execution_count": 247,
   "metadata": {
    "scrolled": true
   },
   "outputs": [
    {
     "data": {
      "text/plain": [
       "3129879"
      ]
     },
     "execution_count": 247,
     "metadata": {},
     "output_type": "execute_result"
    }
   ],
   "source": [
    "len(Q_dict)"
   ]
  },
  {
   "cell_type": "markdown",
   "metadata": {},
   "source": [
    "We can clearly see that using 2nd stratagy of epsilon decay, now we have learnt about almost twice states in comparision with stratagy 1."
   ]
  },
  {
   "cell_type": "markdown",
   "metadata": {},
   "source": [
    "### Check the Q-Table suggestions for the given states\n",
    "Lets try for few states and see according to our Q-Table, which action should be taken"
   ]
  },
  {
   "cell_type": "code",
   "execution_count": 254,
   "metadata": {},
   "outputs": [
    {
     "data": {
      "text/plain": [
       "(1, 3)"
      ]
     },
     "execution_count": 254,
     "metadata": {},
     "output_type": "execute_result"
    }
   ],
   "source": [
    "# try checking for one of the states - that which action your agent thinks is the best  -----This will not be evaluated\n",
    "#  5 |   | 7\n",
    "# -  -   -\n",
    "#   | 2 | \n",
    "# -  -  -\n",
    "#  |   | 6\n",
    "max(Q_dict['5-x-7-x-2-x-x-x-6'],key=Q_dict['5-x-7-x-2-x-x-x-6'].get)"
   ]
  },
  {
   "cell_type": "code",
   "execution_count": 255,
   "metadata": {},
   "outputs": [
    {
     "data": {
      "text/plain": [
       "(5, 5)"
      ]
     },
     "execution_count": 255,
     "metadata": {},
     "output_type": "execute_result"
    }
   ],
   "source": [
    "#  3 |   | \n",
    "# -  -   -\n",
    "# 2 | 8 | \n",
    "# -  -  -\n",
    "#  |   | 9\n",
    "max(Q_dict['3-x-x-2-8-x-x-x-9'],key=Q_dict['3-x-x-2-8-x-x-x-9'].get)"
   ]
  },
  {
   "cell_type": "markdown",
   "metadata": {},
   "source": [
    "As we can see, this Q-table is giving us perfect suggestion for next action based on the given state"
   ]
  },
  {
   "cell_type": "markdown",
   "metadata": {},
   "source": [
    "### Check the states tracked for Q-values convergence\n",
    "\n",
    "Lets check couple state actions from state tracking table and see how well the q-value for those state action has converged"
   ]
  },
  {
   "cell_type": "code",
   "execution_count": 260,
   "metadata": {},
   "outputs": [
    {
     "data": {
      "image/png": "[encoded data removed]",
      "text/plain": [
       "<Figure size 432x288 with 1 Axes>"
      ]
     },
     "metadata": {
      "needs_background": "light"
     },
     "output_type": "display_data"
    }
   ],
   "source": [
    "q_val = States_track['3-x-x-2-x-x-x-x-x'][(5, 5)] #this state action is more likely to occur\n",
    "plt.plot(q_val)\n",
    "plt.show()"
   ]
  },
  {
   "cell_type": "code",
   "execution_count": 262,
   "metadata": {
    "scrolled": true
   },
   "outputs": [
    {
     "data": {
      "image/png": "[encoded data removed]",
      "text/plain": [
       "<Figure size 432x288 with 1 Axes>"
      ]
     },
     "metadata": {
      "needs_background": "light"
     },
     "output_type": "display_data"
    }
   ],
   "source": [
    "q_val = States_track['4-x-x-5-x-x-x-x-x'][(8, 7)] #this state action is more likely to occur\n",
    "plt.plot(q_val)\n",
    "plt.show()"
   ]
  },
  {
   "cell_type": "markdown",
   "metadata": {},
   "source": [
    "The above two states - as they have almost all the values as NA, the probability of those state occuring is more\n",
    "\n",
    "And thus we can see more movement (learning) of Q-value in those state-action\n",
    "\n",
    "However, as we can see, after initial movements, the Q-value for these state-action has converged well"
   ]
  },
  {
   "cell_type": "code",
   "execution_count": 264,
   "metadata": {
    "scrolled": true
   },
   "outputs": [
    {
     "data": {
      "image/png": "[encoded data removed]",
      "text/plain": [
       "<Figure size 432x288 with 1 Axes>"
      ]
     },
     "metadata": {
      "needs_background": "light"
     },
     "output_type": "display_data"
    }
   ],
   "source": [
    "q_val = States_track['3-x-x-2-8-x-x-x-9'][(5,5)] #state-action where agent wins\n",
    "plt.plot(q_val)\n",
    "plt.show()"
   ]
  },
  {
   "cell_type": "markdown",
   "metadata": {},
   "source": [
    "This state-action is such where agent wins so Q-value for this state action should be positive which we can see"
   ]
  },
  {
   "cell_type": "code",
   "execution_count": 269,
   "metadata": {
    "scrolled": false
   },
   "outputs": [
    {
     "data": {
      "image/png": "[encoded data removed]",
      "text/plain": [
       "<Figure size 432x288 with 1 Axes>"
      ]
     },
     "metadata": {
      "needs_background": "light"
     },
     "output_type": "display_data"
    }
   ],
   "source": [
    "q_val = States_track['9-x-x-3-x-4-7-8-6'][(4,5)] #State-action where it is more likely that environment will win\n",
    "plt.plot(q_val)\n",
    "plt.show()\n"
   ]
  },
  {
   "cell_type": "markdown",
   "metadata": {},
   "source": [
    "This state-action is such where it is more likely that environment will win so Q-value for this state action should be negative which we can see\n",
    "\n",
    "However, as we can see there are many slots are filled in the board, this state is less likely to occur so we can expect less movement (and that can also be taken as slow in actual convergence)"
   ]
  },
  {
   "cell_type": "code",
   "execution_count": 274,
   "metadata": {
    "scrolled": true
   },
   "outputs": [
    {
     "data": {
      "image/png": "[encoded data removed]",
      "text/plain": [
       "<Figure size 432x288 with 1 Axes>"
      ]
     },
     "metadata": {
      "needs_background": "light"
     },
     "output_type": "display_data"
    }
   ],
   "source": [
    "q_val = States_track['x-x-x-x-5-x-x-8-x'][(0,1)] #State-Action where agent or environment any of them can win\n",
    "plt.plot(q_val)\n",
    "plt.show()\n"
   ]
  },
  {
   "cell_type": "markdown",
   "metadata": {},
   "source": [
    "This is the state where environment or agent any of these two can win (by taking right action)\n",
    "\n",
    "We can see, in initial stage the q-value of this state-action was negative, but once agent has learnt enough and have started taking greedy decision based on Q-Table exploitation, Q-value of this state-action has increased and later convegred"
   ]
  },
  {
   "cell_type": "code",
   "execution_count": 281,
   "metadata": {
    "scrolled": true
   },
   "outputs": [
    {
     "data": {
      "image/png": "[encoded data removed]",
      "text/plain": [
       "<Figure size 432x288 with 1 Axes>"
      ]
     },
     "metadata": {
      "needs_background": "light"
     },
     "output_type": "display_data"
    }
   ],
   "source": [
    "q_val = States_track['x-1-7-2-6-3-8-5-4'][(0,9)] #Extremly rare occuring state action\n",
    "plt.plot(q_val)\n",
    "plt.show()\n"
   ]
  },
  {
   "cell_type": "code",
   "execution_count": null,
   "metadata": {},
   "outputs": [],
   "source": []
  }
 ],
 "metadata": {
  "colab": {
   "collapsed_sections": [],
   "name": "TicTacToe_Agent.ipynb",
   "provenance": [],
   "version": "0.3.2"
  },
  "kernelspec": {
   "display_name": "Python 3",
   "language": "python",
   "name": "python3"
  },
  "language_info": {
   "codemirror_mode": {
    "name": "ipython",
    "version": 3
   },
   "file_extension": ".py",
   "mimetype": "text/x-python",
   "name": "python",
   "nbconvert_exporter": "python",
   "pygments_lexer": "ipython3",
   "version": "3.8.8"
  }
 },
 "nbformat": 4,
 "nbformat_minor": 1
}
