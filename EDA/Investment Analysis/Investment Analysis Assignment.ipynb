{
 "cells": [
  {
   "cell_type": "markdown",
   "metadata": {},
   "source": [
    "Importing Required Packages"
   ]
  },
  {
   "cell_type": "code",
   "execution_count": 1560,
   "metadata": {},
   "outputs": [],
   "source": [
    "import numpy as np\n",
    "import pandas as pd\n",
    "import functools"
   ]
  },
  {
   "cell_type": "markdown",
   "metadata": {},
   "source": [
    "<h1>Data Cleaning and Understanding</h1>"
   ]
  },
  {
   "cell_type": "markdown",
   "metadata": {},
   "source": [
    "**Reading CSV files.**\n",
    "I could see that some companies having non-ascii characters in their name, and the provided underlaying CSV files were stored with ANSI encodig, thus I needed to again save it with utf-8 encoding."
   ]
  },
  {
   "cell_type": "code",
   "execution_count": 1561,
   "metadata": {},
   "outputs": [],
   "source": [
    "companies = pd.read_csv(\"companies.csv\", encoding = \"utf-8\")\n",
    "rounds2 = pd.read_csv(\"rounds2.csv\", encoding = \"utf-8\")"
   ]
  },
  {
   "cell_type": "markdown",
   "metadata": {},
   "source": [
    "**We could see that some entries of \"Permalink\" attribute is in upper case while some in lowerer case.\n",
    "So making them uniform before counting unique number of companies.**"
   ]
  },
  {
   "cell_type": "code",
   "execution_count": 1562,
   "metadata": {},
   "outputs": [],
   "source": [
    "rounds2.company_permalink = rounds2.company_permalink.apply(lambda x: x.lower())"
   ]
  },
  {
   "cell_type": "code",
   "execution_count": 1563,
   "metadata": {},
   "outputs": [
    {
     "data": {
      "text/plain": [
       "66368"
      ]
     },
     "execution_count": 1563,
     "metadata": {},
     "output_type": "execute_result"
    }
   ],
   "source": [
    "rounds2.company_permalink.nunique()"
   ]
  },
  {
   "cell_type": "code",
   "execution_count": 1564,
   "metadata": {},
   "outputs": [],
   "source": [
    "companies.permalink = companies.permalink.apply(lambda x: x.lower())"
   ]
  },
  {
   "cell_type": "code",
   "execution_count": 1565,
   "metadata": {},
   "outputs": [
    {
     "data": {
      "text/plain": [
       "66368"
      ]
     },
     "execution_count": 1565,
     "metadata": {},
     "output_type": "execute_result"
    }
   ],
   "source": [
    "companies.permalink.nunique()"
   ]
  },
  {
   "cell_type": "markdown",
   "metadata": {},
   "source": [
    "**Q: Are there any companies in the rounds2 file which are not  present in companies?**"
   ]
  },
  {
   "cell_type": "code",
   "execution_count": 1566,
   "metadata": {},
   "outputs": [],
   "source": [
    "companiesInRounds2 = set(rounds2.company_permalink)\n",
    "companiesInCompanies = set(companies.permalink)"
   ]
  },
  {
   "cell_type": "code",
   "execution_count": 1567,
   "metadata": {},
   "outputs": [
    {
     "name": "stdout",
     "output_type": "stream",
     "text": [
      "set()\n",
      "set()\n"
     ]
    }
   ],
   "source": [
    "inRounds2NotInCompanies = companiesInRounds2.difference(companiesInCompanies)\n",
    "inCompaniesNotInRounds2 = companiesInCompanies.difference(companiesInRounds2)\n",
    "print(inRounds2NotInCompanies)\n",
    "print(inCompaniesNotInRounds2)"
   ]
  },
  {
   "cell_type": "markdown",
   "metadata": {},
   "source": [
    "<h3>Analysing the data in both the Dataframes</h3>"
   ]
  },
  {
   "cell_type": "markdown",
   "metadata": {},
   "source": [
    "**Checking existing variables in the dataframes**"
   ]
  },
  {
   "cell_type": "code",
   "execution_count": 1568,
   "metadata": {
    "scrolled": true
   },
   "outputs": [
    {
     "data": {
      "text/html": [
       "<div>\n",
       "<style scoped>\n",
       "    .dataframe tbody tr th:only-of-type {\n",
       "        vertical-align: middle;\n",
       "    }\n",
       "\n",
       "    .dataframe tbody tr th {\n",
       "        vertical-align: top;\n",
       "    }\n",
       "\n",
       "    .dataframe thead th {\n",
       "        text-align: right;\n",
       "    }\n",
       "</style>\n",
       "<table border=\"1\" class=\"dataframe\">\n",
       "  <thead>\n",
       "    <tr style=\"text-align: right;\">\n",
       "      <th></th>\n",
       "      <th>company_permalink</th>\n",
       "      <th>funding_round_permalink</th>\n",
       "      <th>funding_round_type</th>\n",
       "      <th>funding_round_code</th>\n",
       "      <th>funded_at</th>\n",
       "      <th>raised_amount_usd</th>\n",
       "    </tr>\n",
       "  </thead>\n",
       "  <tbody>\n",
       "    <tr>\n",
       "      <th>0</th>\n",
       "      <td>/organization/-fame</td>\n",
       "      <td>/funding-round/9a01d05418af9f794eebff7ace91f638</td>\n",
       "      <td>venture</td>\n",
       "      <td>B</td>\n",
       "      <td>05-01-2015</td>\n",
       "      <td>10000000.0</td>\n",
       "    </tr>\n",
       "  </tbody>\n",
       "</table>\n",
       "</div>"
      ],
      "text/plain": [
       "     company_permalink                          funding_round_permalink  \\\n",
       "0  /organization/-fame  /funding-round/9a01d05418af9f794eebff7ace91f638   \n",
       "\n",
       "  funding_round_type funding_round_code   funded_at  raised_amount_usd  \n",
       "0            venture                  B  05-01-2015         10000000.0  "
      ]
     },
     "execution_count": 1568,
     "metadata": {},
     "output_type": "execute_result"
    }
   ],
   "source": [
    "rounds2.head(1)"
   ]
  },
  {
   "cell_type": "code",
   "execution_count": 1569,
   "metadata": {
    "scrolled": false
   },
   "outputs": [
    {
     "data": {
      "text/html": [
       "<div>\n",
       "<style scoped>\n",
       "    .dataframe tbody tr th:only-of-type {\n",
       "        vertical-align: middle;\n",
       "    }\n",
       "\n",
       "    .dataframe tbody tr th {\n",
       "        vertical-align: top;\n",
       "    }\n",
       "\n",
       "    .dataframe thead th {\n",
       "        text-align: right;\n",
       "    }\n",
       "</style>\n",
       "<table border=\"1\" class=\"dataframe\">\n",
       "  <thead>\n",
       "    <tr style=\"text-align: right;\">\n",
       "      <th></th>\n",
       "      <th>permalink</th>\n",
       "      <th>name</th>\n",
       "      <th>homepage_url</th>\n",
       "      <th>category_list</th>\n",
       "      <th>status</th>\n",
       "      <th>country_code</th>\n",
       "      <th>state_code</th>\n",
       "      <th>region</th>\n",
       "      <th>city</th>\n",
       "      <th>founded_at</th>\n",
       "    </tr>\n",
       "  </thead>\n",
       "  <tbody>\n",
       "    <tr>\n",
       "      <th>0</th>\n",
       "      <td>/organization/-fame</td>\n",
       "      <td>#fame</td>\n",
       "      <td>http://livfame.com</td>\n",
       "      <td>Media</td>\n",
       "      <td>operating</td>\n",
       "      <td>IND</td>\n",
       "      <td>16</td>\n",
       "      <td>Mumbai</td>\n",
       "      <td>Mumbai</td>\n",
       "      <td>NaN</td>\n",
       "    </tr>\n",
       "  </tbody>\n",
       "</table>\n",
       "</div>"
      ],
      "text/plain": [
       "             permalink   name        homepage_url category_list     status  \\\n",
       "0  /organization/-fame  #fame  http://livfame.com         Media  operating   \n",
       "\n",
       "  country_code state_code  region    city founded_at  \n",
       "0          IND         16  Mumbai  Mumbai        NaN  "
      ]
     },
     "execution_count": 1569,
     "metadata": {},
     "output_type": "execute_result"
    }
   ],
   "source": [
    "companies.head(1)"
   ]
  },
  {
   "cell_type": "markdown",
   "metadata": {},
   "source": [
    "**Renaming the column 'company_permalink' to 'permalink', so it can be used in merging the dataframesm**"
   ]
  },
  {
   "cell_type": "code",
   "execution_count": 1570,
   "metadata": {},
   "outputs": [],
   "source": [
    "rounds2 = rounds2.rename(columns={'company_permalink': 'permalink'})\n"
   ]
  },
  {
   "cell_type": "markdown",
   "metadata": {},
   "source": [
    "**Merging both Dataframes togather and forming Master dataframe**"
   ]
  },
  {
   "cell_type": "code",
   "execution_count": 1571,
   "metadata": {},
   "outputs": [],
   "source": [
    "master_frame = pd.merge(left = rounds2, right = companies, how =\"left\", on =\"permalink\")"
   ]
  },
  {
   "cell_type": "markdown",
   "metadata": {},
   "source": [
    "**How many observations are present in master_frame?**"
   ]
  },
  {
   "cell_type": "code",
   "execution_count": 1572,
   "metadata": {},
   "outputs": [
    {
     "name": "stdout",
     "output_type": "stream",
     "text": [
      "Unique observations in Master dataframe: 114949\n"
     ]
    }
   ],
   "source": [
    "print(\"Unique observations in Master dataframe:\",master_frame.funding_round_permalink.nunique())"
   ]
  },
  {
   "cell_type": "markdown",
   "metadata": {},
   "source": [
    "<h3>Data Cleaning</h3>"
   ]
  },
  {
   "cell_type": "markdown",
   "metadata": {},
   "source": [
    "**Checking for duplicate rows**"
   ]
  },
  {
   "cell_type": "code",
   "execution_count": 1573,
   "metadata": {},
   "outputs": [
    {
     "name": "stdout",
     "output_type": "stream",
     "text": [
      "Overall Rows in Master dataframe: 114949\n",
      "Unique Funding permalinks in Master dataframe: 114949\n"
     ]
    }
   ],
   "source": [
    "print(\"Overall Rows in Master dataframe:\", master_frame.shape[0])\n",
    "print(\"Unique Funding permalinks in Master dataframe:\",master_frame.funding_round_permalink.nunique())"
   ]
  },
  {
   "cell_type": "markdown",
   "metadata": {},
   "source": [
    "**Checking for missing values**"
   ]
  },
  {
   "cell_type": "code",
   "execution_count": 1574,
   "metadata": {},
   "outputs": [
    {
     "name": "stdout",
     "output_type": "stream",
     "text": [
      "Missing values in rows for Raised Fund 19990\n",
      "Missing values in rows for Fund type 0\n",
      "Missing values in rows for Contry code 0\n"
     ]
    }
   ],
   "source": [
    "print(\"Missing values in rows for Raised Fund\", master_frame[np.isnan(master_frame.raised_amount_usd)].shape[0])\n",
    "print(\"Missing values in rows for Fund type\", master_frame[master_frame.funding_round_type == \"\"].shape[0])\n",
    "print(\"Missing values in rows for Contry code\", master_frame[master_frame.country_code == \"\"].shape[0])"
   ]
  },
  {
   "cell_type": "code",
   "execution_count": 1575,
   "metadata": {},
   "outputs": [
    {
     "data": {
      "text/html": [
       "<div>\n",
       "<style scoped>\n",
       "    .dataframe tbody tr th:only-of-type {\n",
       "        vertical-align: middle;\n",
       "    }\n",
       "\n",
       "    .dataframe tbody tr th {\n",
       "        vertical-align: top;\n",
       "    }\n",
       "\n",
       "    .dataframe thead th {\n",
       "        text-align: right;\n",
       "    }\n",
       "</style>\n",
       "<table border=\"1\" class=\"dataframe\">\n",
       "  <thead>\n",
       "    <tr style=\"text-align: right;\">\n",
       "      <th></th>\n",
       "      <th>raised_amount_usd</th>\n",
       "    </tr>\n",
       "    <tr>\n",
       "      <th>status</th>\n",
       "      <th></th>\n",
       "    </tr>\n",
       "  </thead>\n",
       "  <tbody>\n",
       "    <tr>\n",
       "      <th>acquired</th>\n",
       "      <td>1.355237e+11</td>\n",
       "    </tr>\n",
       "    <tr>\n",
       "      <th>closed</th>\n",
       "      <td>5.353049e+10</td>\n",
       "    </tr>\n",
       "    <tr>\n",
       "      <th>ipo</th>\n",
       "      <td>2.099612e+11</td>\n",
       "    </tr>\n",
       "    <tr>\n",
       "      <th>operating</th>\n",
       "      <td>5.911097e+11</td>\n",
       "    </tr>\n",
       "  </tbody>\n",
       "</table>\n",
       "</div>"
      ],
      "text/plain": [
       "           raised_amount_usd\n",
       "status                      \n",
       "acquired        1.355237e+11\n",
       "closed          5.353049e+10\n",
       "ipo             2.099612e+11\n",
       "operating       5.911097e+11"
      ]
     },
     "execution_count": 1575,
     "metadata": {},
     "output_type": "execute_result"
    }
   ],
   "source": [
    "#cheching the sum of raised fund for all type of status to see if any status is being inactive or not\n",
    "master_frame.groupby(['status']).sum()"
   ]
  },
  {
   "cell_type": "markdown",
   "metadata": {},
   "source": [
    "**Dropping unnecessay columns**"
   ]
  },
  {
   "cell_type": "code",
   "execution_count": 1576,
   "metadata": {},
   "outputs": [],
   "source": [
    "master_frame = master_frame.drop(['funded_at',  'funding_round_code','homepage_url', 'state_code', 'region', 'city', 'founded_at'], axis = 1)"
   ]
  },
  {
   "cell_type": "markdown",
   "metadata": {},
   "source": [
    "<h3>We know that \"Spark Funds wants to choose one of four (venture, angel, seed, and private equity) investment types for each potential investment they will make.\"</h3>"
   ]
  },
  {
   "cell_type": "markdown",
   "metadata": {},
   "source": [
    "**Filtering the dataset with these four types only**"
   ]
  },
  {
   "cell_type": "code",
   "execution_count": 1577,
   "metadata": {},
   "outputs": [],
   "source": [
    "considerFundTypeList = ['venture', 'angel', 'seed','private_equity']\n",
    "master_frame = master_frame[master_frame.funding_round_type.isin(considerFundTypeList)]                           "
   ]
  },
  {
   "cell_type": "markdown",
   "metadata": {},
   "source": [
    "**checking general distrubution of the 'Raised_amount_usd' in different fund types**"
   ]
  },
  {
   "cell_type": "code",
   "execution_count": 1623,
   "metadata": {},
   "outputs": [],
   "source": [
    "def plotBoxPlotForMasterDataframe():\n",
    "    fundForTypes = []\n",
    "    \n",
    "    fundForTypes.append(master_frame[master_frame.funding_round_type == 'venture'].raised_amount_usd)\n",
    "    fundForTypes.append(master_frame[master_frame.funding_round_type == 'angel'].raised_amount_usd)\n",
    "    fundForTypes.append(master_frame[master_frame.funding_round_type == 'seed'].raised_amount_usd)\n",
    "    fundForTypes.append(master_frame[master_frame.funding_round_type == 'private_equity'].raised_amount_usd)\n",
    "  \n",
    "    fig, ax = plt.subplots(2,2, figsize=(10,10))\n",
    "    \n",
    "    plotDF = functools.reduce(lambda a,b : pd.concat([a,b], axis = 1), fundForTypes)\n",
    "    plotDF.columns = ['venture', 'angel', 'seed', 'private_equity' ]\n",
    "    \n",
    "    plotDF.boxplot(column=['venture'], ax = ax[0][0])\n",
    "    plotDF.boxplot(column=['angel'], ax = ax[0][1])\n",
    "    plotDF.boxplot(column=['seed'], ax = ax[1][0])\n",
    "    plotDF.boxplot(column=['private_equity'], ax = ax[1][1])\n",
    "    \n",
    "    plt.show()\n",
    "    "
   ]
  },
  {
   "cell_type": "code",
   "execution_count": 1579,
   "metadata": {},
   "outputs": [
    {
     "data": {
      "image/png": "[encoded data removed]",
      "text/plain": [
       "<Figure size 720x720 with 4 Axes>"
      ]
     },
     "metadata": {
      "needs_background": "light"
     },
     "output_type": "display_data"
    }
   ],
   "source": [
    "plotBoxPlotForMasterDataframe()"
   ]
  },
  {
   "cell_type": "markdown",
   "metadata": {},
   "source": [
    "<h3>Replacing the 'Nan' values for 'raised_amount_usd' with median values and remove outliers (above 95th Percentile) for respective funding round type</h3>\n",
    "\n",
    "Segmenting the master dataframe into sub data frame based on the fund type\n",
    "\n",
    "* We will set the median value of raised fund where it is missing\n",
    "* We will remove the outliers"
   ]
  },
  {
   "cell_type": "code",
   "execution_count": 1580,
   "metadata": {
    "scrolled": true
   },
   "outputs": [
    {
     "name": "stderr",
     "output_type": "stream",
     "text": [
      "E:\\Users\\amitkumar.maheshwari\\Anaconda3\\lib\\site-packages\\pandas\\core\\generic.py:5168: SettingWithCopyWarning: \n",
      "A value is trying to be set on a copy of a slice from a DataFrame.\n",
      "Try using .loc[row_indexer,col_indexer] = value instead\n",
      "\n",
      "See the caveats in the documentation: https://pandas.pydata.org/pandas-docs/stable/user_guide/indexing.html#returning-a-view-versus-a-copy\n",
      "  self[name] = value\n",
      "E:\\Users\\amitkumar.maheshwari\\Anaconda3\\lib\\site-packages\\pandas\\core\\generic.py:5168: SettingWithCopyWarning: \n",
      "A value is trying to be set on a copy of a slice from a DataFrame.\n",
      "Try using .loc[row_indexer,col_indexer] = value instead\n",
      "\n",
      "See the caveats in the documentation: https://pandas.pydata.org/pandas-docs/stable/user_guide/indexing.html#returning-a-view-versus-a-copy\n",
      "  self[name] = value\n",
      "E:\\Users\\amitkumar.maheshwari\\Anaconda3\\lib\\site-packages\\pandas\\core\\generic.py:5168: SettingWithCopyWarning: \n",
      "A value is trying to be set on a copy of a slice from a DataFrame.\n",
      "Try using .loc[row_indexer,col_indexer] = value instead\n",
      "\n",
      "See the caveats in the documentation: https://pandas.pydata.org/pandas-docs/stable/user_guide/indexing.html#returning-a-view-versus-a-copy\n",
      "  self[name] = value\n",
      "E:\\Users\\amitkumar.maheshwari\\Anaconda3\\lib\\site-packages\\pandas\\core\\generic.py:5168: SettingWithCopyWarning: \n",
      "A value is trying to be set on a copy of a slice from a DataFrame.\n",
      "Try using .loc[row_indexer,col_indexer] = value instead\n",
      "\n",
      "See the caveats in the documentation: https://pandas.pydata.org/pandas-docs/stable/user_guide/indexing.html#returning-a-view-versus-a-copy\n",
      "  self[name] = value\n"
     ]
    }
   ],
   "source": [
    "listOfTempDF = []\n",
    "\n",
    "#We can ignore the \"SettingWithCopyWarning:\" warning as we anyways dont need to refect the change on master dataframe.\n",
    "#We will re-create the master data frame by concating the sub data frames.\n",
    "for ty in fundByRoundType.index:\n",
    "    df = master_frame[master_frame.funding_round_type == ty]\n",
    "    \n",
    "    medianFundVal = df.raised_amount_usd.median()\n",
    "    nintyFifthPer = df.raised_amount_usd.quantile(.95)\n",
    "    \n",
    "    df.raised_amount_usd = df.raised_amount_usd.apply(lambda x: x if ~np.isnan(x) else medianFundVal)\n",
    "    df = df[df.raised_amount_usd <= nintyFifthPer]\n",
    "    \n",
    "    listOfTempDF.append(df)\n",
    "\n",
    "#concating all segmented data frames back and forming a single master data frame.\n",
    "master_frame = functools.reduce(lambda a,b : pd.concat([a,b]), listOfTempDF)\n",
    "\n",
    "\n"
   ]
  },
  {
   "cell_type": "markdown",
   "metadata": {},
   "source": [
    "**Lets check distribution of Raised Fund, Fund Type wise**"
   ]
  },
  {
   "cell_type": "code",
   "execution_count": 1581,
   "metadata": {},
   "outputs": [
    {
     "data": {
      "image/png": "[encoded data removed]",
      "text/plain": [
       "<Figure size 720x720 with 4 Axes>"
      ]
     },
     "metadata": {
      "needs_background": "light"
     },
     "output_type": "display_data"
    }
   ],
   "source": [
    "plotBoxPlotForMasterDataframe()"
   ]
  },
  {
   "cell_type": "markdown",
   "metadata": {},
   "source": [
    "<h3>Q: Representative funding amount of of different types</h3>\n",
    "\n",
    "To find Representative, using median of respective funding type values"
   ]
  },
  {
   "cell_type": "code",
   "execution_count": 1582,
   "metadata": {},
   "outputs": [
    {
     "data": {
      "text/html": [
       "<div>\n",
       "<style scoped>\n",
       "    .dataframe tbody tr th:only-of-type {\n",
       "        vertical-align: middle;\n",
       "    }\n",
       "\n",
       "    .dataframe tbody tr th {\n",
       "        vertical-align: top;\n",
       "    }\n",
       "\n",
       "    .dataframe thead th {\n",
       "        text-align: right;\n",
       "    }\n",
       "</style>\n",
       "<table border=\"1\" class=\"dataframe\">\n",
       "  <thead>\n",
       "    <tr style=\"text-align: right;\">\n",
       "      <th></th>\n",
       "      <th>raised_amount_usd</th>\n",
       "    </tr>\n",
       "    <tr>\n",
       "      <th>funding_round_type</th>\n",
       "      <th></th>\n",
       "    </tr>\n",
       "  </thead>\n",
       "  <tbody>\n",
       "    <tr>\n",
       "      <th>angel</th>\n",
       "      <td>400000.0</td>\n",
       "    </tr>\n",
       "    <tr>\n",
       "      <th>private_equity</th>\n",
       "      <td>20000000.0</td>\n",
       "    </tr>\n",
       "    <tr>\n",
       "      <th>seed</th>\n",
       "      <td>275000.0</td>\n",
       "    </tr>\n",
       "    <tr>\n",
       "      <th>venture</th>\n",
       "      <td>5000000.0</td>\n",
       "    </tr>\n",
       "  </tbody>\n",
       "</table>\n",
       "</div>"
      ],
      "text/plain": [
       "                    raised_amount_usd\n",
       "funding_round_type                   \n",
       "angel                        400000.0\n",
       "private_equity             20000000.0\n",
       "seed                         275000.0\n",
       "venture                     5000000.0"
      ]
     },
     "execution_count": 1582,
     "metadata": {},
     "output_type": "execute_result"
    }
   ],
   "source": [
    "fundByRoundType  = master_frame.groupby(['funding_round_type']).median()\n",
    "fundByRoundType.head(20)"
   ]
  },
  {
   "cell_type": "markdown",
   "metadata": {},
   "source": [
    "**Q: Considering that Spark Funds wants to invest between 5 to 15 million USD per investment round, which investment type is the most suitable for them?**"
   ]
  },
  {
   "cell_type": "code",
   "execution_count": 1583,
   "metadata": {},
   "outputs": [
    {
     "data": {
      "text/html": [
       "<div>\n",
       "<style scoped>\n",
       "    .dataframe tbody tr th:only-of-type {\n",
       "        vertical-align: middle;\n",
       "    }\n",
       "\n",
       "    .dataframe tbody tr th {\n",
       "        vertical-align: top;\n",
       "    }\n",
       "\n",
       "    .dataframe thead th {\n",
       "        text-align: right;\n",
       "    }\n",
       "</style>\n",
       "<table border=\"1\" class=\"dataframe\">\n",
       "  <thead>\n",
       "    <tr style=\"text-align: right;\">\n",
       "      <th></th>\n",
       "      <th>raised_amount_usd</th>\n",
       "    </tr>\n",
       "    <tr>\n",
       "      <th>funding_round_type</th>\n",
       "      <th></th>\n",
       "    </tr>\n",
       "  </thead>\n",
       "  <tbody>\n",
       "    <tr>\n",
       "      <th>venture</th>\n",
       "      <td>5000000.0</td>\n",
       "    </tr>\n",
       "  </tbody>\n",
       "</table>\n",
       "</div>"
      ],
      "text/plain": [
       "                    raised_amount_usd\n",
       "funding_round_type                   \n",
       "venture                     5000000.0"
      ]
     },
     "execution_count": 1583,
     "metadata": {},
     "output_type": "execute_result"
    }
   ],
   "source": [
    "fundBetween5To15M = fundByRoundType[(fundByRoundType.raised_amount_usd >= 5000000) & (fundByRoundType.raised_amount_usd <= 15000000)]\n",
    "fundBetween5To15M.head(4)"
   ]
  },
  {
   "cell_type": "markdown",
   "metadata": {},
   "source": [
    "**Spark Funds wants to see the top nine countries which have received the highest total funding**"
   ]
  },
  {
   "cell_type": "code",
   "execution_count": 1584,
   "metadata": {
    "scrolled": true
   },
   "outputs": [
    {
     "data": {
      "text/html": [
       "<div>\n",
       "<style scoped>\n",
       "    .dataframe tbody tr th:only-of-type {\n",
       "        vertical-align: middle;\n",
       "    }\n",
       "\n",
       "    .dataframe tbody tr th {\n",
       "        vertical-align: top;\n",
       "    }\n",
       "\n",
       "    .dataframe thead th {\n",
       "        text-align: right;\n",
       "    }\n",
       "</style>\n",
       "<table border=\"1\" class=\"dataframe\">\n",
       "  <thead>\n",
       "    <tr style=\"text-align: right;\">\n",
       "      <th></th>\n",
       "      <th>raised_amount_usd</th>\n",
       "    </tr>\n",
       "    <tr>\n",
       "      <th>country_code</th>\n",
       "      <th></th>\n",
       "    </tr>\n",
       "  </thead>\n",
       "  <tbody>\n",
       "    <tr>\n",
       "      <th>USA</th>\n",
       "      <td>3.424035e+11</td>\n",
       "    </tr>\n",
       "    <tr>\n",
       "      <th>GBR</th>\n",
       "      <td>2.065567e+10</td>\n",
       "    </tr>\n",
       "    <tr>\n",
       "      <th>CHN</th>\n",
       "      <td>1.940669e+10</td>\n",
       "    </tr>\n",
       "    <tr>\n",
       "      <th>CAN</th>\n",
       "      <td>1.149112e+10</td>\n",
       "    </tr>\n",
       "    <tr>\n",
       "      <th>IND</th>\n",
       "      <td>1.137514e+10</td>\n",
       "    </tr>\n",
       "    <tr>\n",
       "      <th>ISR</th>\n",
       "      <td>7.863702e+09</td>\n",
       "    </tr>\n",
       "    <tr>\n",
       "      <th>DEU</th>\n",
       "      <td>7.051244e+09</td>\n",
       "    </tr>\n",
       "    <tr>\n",
       "      <th>FRA</th>\n",
       "      <td>6.877607e+09</td>\n",
       "    </tr>\n",
       "    <tr>\n",
       "      <th>CHE</th>\n",
       "      <td>3.088564e+09</td>\n",
       "    </tr>\n",
       "  </tbody>\n",
       "</table>\n",
       "</div>"
      ],
      "text/plain": [
       "              raised_amount_usd\n",
       "country_code                   \n",
       "USA                3.424035e+11\n",
       "GBR                2.065567e+10\n",
       "CHN                1.940669e+10\n",
       "CAN                1.149112e+10\n",
       "IND                1.137514e+10\n",
       "ISR                7.863702e+09\n",
       "DEU                7.051244e+09\n",
       "FRA                6.877607e+09\n",
       "CHE                3.088564e+09"
      ]
     },
     "execution_count": 1584,
     "metadata": {},
     "output_type": "execute_result"
    }
   ],
   "source": [
    "top9 = master_frame.groupby(['country_code']).sum().sort_values(by=['raised_amount_usd'], ascending = False).head(9)\n",
    "top9"
   ]
  },
  {
   "cell_type": "markdown",
   "metadata": {},
   "source": [
    "To Identifying Top 3 english speaking countries from the \"Top9\" countries,\n",
    "we can refer to this https://en.wikipedia.org/wiki/List_of_countries_and_territories_where_English_is_an_official_language\n",
    "\n",
    "Making a sample english speaking country's list (one can obtain full list from above link) and fetch top 3 from \"Top9\""
   ]
  },
  {
   "cell_type": "code",
   "execution_count": 1585,
   "metadata": {},
   "outputs": [
    {
     "data": {
      "text/html": [
       "<div>\n",
       "<style scoped>\n",
       "    .dataframe tbody tr th:only-of-type {\n",
       "        vertical-align: middle;\n",
       "    }\n",
       "\n",
       "    .dataframe tbody tr th {\n",
       "        vertical-align: top;\n",
       "    }\n",
       "\n",
       "    .dataframe thead th {\n",
       "        text-align: right;\n",
       "    }\n",
       "</style>\n",
       "<table border=\"1\" class=\"dataframe\">\n",
       "  <thead>\n",
       "    <tr style=\"text-align: right;\">\n",
       "      <th></th>\n",
       "      <th>raised_amount_usd</th>\n",
       "    </tr>\n",
       "    <tr>\n",
       "      <th>country_code</th>\n",
       "      <th></th>\n",
       "    </tr>\n",
       "  </thead>\n",
       "  <tbody>\n",
       "    <tr>\n",
       "      <th>USA</th>\n",
       "      <td>3.424035e+11</td>\n",
       "    </tr>\n",
       "    <tr>\n",
       "      <th>GBR</th>\n",
       "      <td>2.065567e+10</td>\n",
       "    </tr>\n",
       "    <tr>\n",
       "      <th>CAN</th>\n",
       "      <td>1.149112e+10</td>\n",
       "    </tr>\n",
       "  </tbody>\n",
       "</table>\n",
       "</div>"
      ],
      "text/plain": [
       "              raised_amount_usd\n",
       "country_code                   \n",
       "USA                3.424035e+11\n",
       "GBR                2.065567e+10\n",
       "CAN                1.149112e+10"
      ]
     },
     "execution_count": 1585,
     "metadata": {},
     "output_type": "execute_result"
    }
   ],
   "source": [
    "EnglishSpeaking = ['AUS', \"USA\", \"GBR\", \"CAN\", \"IND\", \"NZL\"]\n",
    "top3 = top9[top9.index.isin(EnglishSpeaking)].head(3)\n",
    "top3"
   ]
  },
  {
   "cell_type": "markdown",
   "metadata": {},
   "source": [
    "<h3>Now further analysis will be done only for these three countries and 'venture' type investment, on seperate dataframes segemented contry wise. </h3>\n",
    "D1 - USA\n",
    "\n",
    "D2 - GBR\n",
    "\n",
    "D3 - CAN"
   ]
  },
  {
   "cell_type": "code",
   "execution_count": 1586,
   "metadata": {
    "scrolled": true
   },
   "outputs": [
    {
     "name": "stdout",
     "output_type": "stream",
     "text": [
      "(36825, 8)\n",
      "(2236, 8)\n",
      "(1324, 8)\n"
     ]
    }
   ],
   "source": [
    "d1 = master_frame[(master_frame.country_code == 'USA') & (master_frame.funding_round_type == 'venture')]\n",
    "d2 = master_frame[(master_frame.country_code == 'GBR') & (master_frame.funding_round_type == 'venture')]\n",
    "d3 = master_frame[(master_frame.country_code == 'CAN') & (master_frame.funding_round_type == 'venture')]\n",
    "print(d1.shape)\n",
    "print(d2.shape)\n",
    "print(d3.shape)"
   ]
  },
  {
   "cell_type": "markdown",
   "metadata": {},
   "source": [
    "**In Top 3 countrie's dataframe, Deriving Primary Category variable from category variable**"
   ]
  },
  {
   "cell_type": "code",
   "execution_count": 1587,
   "metadata": {},
   "outputs": [
    {
     "name": "stderr",
     "output_type": "stream",
     "text": [
      "<ipython-input-1587-08ea345bb506>:1: SettingWithCopyWarning: \n",
      "A value is trying to be set on a copy of a slice from a DataFrame.\n",
      "Try using .loc[row_indexer,col_indexer] = value instead\n",
      "\n",
      "See the caveats in the documentation: https://pandas.pydata.org/pandas-docs/stable/user_guide/indexing.html#returning-a-view-versus-a-copy\n",
      "  d1['primary_category'] = d1.category_list.apply(lambda x : x.split(\"|\")[0] if (x == x) else x)\n",
      "<ipython-input-1587-08ea345bb506>:2: SettingWithCopyWarning: \n",
      "A value is trying to be set on a copy of a slice from a DataFrame.\n",
      "Try using .loc[row_indexer,col_indexer] = value instead\n",
      "\n",
      "See the caveats in the documentation: https://pandas.pydata.org/pandas-docs/stable/user_guide/indexing.html#returning-a-view-versus-a-copy\n",
      "  d2['primary_category'] = d2.category_list.apply(lambda x : x.split(\"|\")[0] if (x == x) else x)\n",
      "<ipython-input-1587-08ea345bb506>:3: SettingWithCopyWarning: \n",
      "A value is trying to be set on a copy of a slice from a DataFrame.\n",
      "Try using .loc[row_indexer,col_indexer] = value instead\n",
      "\n",
      "See the caveats in the documentation: https://pandas.pydata.org/pandas-docs/stable/user_guide/indexing.html#returning-a-view-versus-a-copy\n",
      "  d3['primary_category'] = d3.category_list.apply(lambda x : x.split(\"|\")[0] if (x == x) else x)\n"
     ]
    }
   ],
   "source": [
    "d1['primary_category'] = d1.category_list.apply(lambda x : x.split(\"|\")[0] if (x == x) else x)\n",
    "d2['primary_category'] = d2.category_list.apply(lambda x : x.split(\"|\")[0] if (x == x) else x)\n",
    "d3['primary_category'] = d3.category_list.apply(lambda x : x.split(\"|\")[0] if (x == x) else x)"
   ]
  },
  {
   "cell_type": "markdown",
   "metadata": {},
   "source": [
    "<h3>Mapping Table : Reading and cleaning data </h3>\n",
    "Reading 'mapping' file"
   ]
  },
  {
   "cell_type": "code",
   "execution_count": 1588,
   "metadata": {
    "scrolled": true
   },
   "outputs": [
    {
     "data": {
      "text/html": [
       "<div>\n",
       "<style scoped>\n",
       "    .dataframe tbody tr th:only-of-type {\n",
       "        vertical-align: middle;\n",
       "    }\n",
       "\n",
       "    .dataframe tbody tr th {\n",
       "        vertical-align: top;\n",
       "    }\n",
       "\n",
       "    .dataframe thead th {\n",
       "        text-align: right;\n",
       "    }\n",
       "</style>\n",
       "<table border=\"1\" class=\"dataframe\">\n",
       "  <thead>\n",
       "    <tr style=\"text-align: right;\">\n",
       "      <th></th>\n",
       "      <th>category_list</th>\n",
       "      <th>Automotive &amp; Sports</th>\n",
       "      <th>Blanks</th>\n",
       "      <th>Cleantech / Semiconductors</th>\n",
       "      <th>Entertainment</th>\n",
       "      <th>Health</th>\n",
       "      <th>Manufacturing</th>\n",
       "      <th>News, Search and Messaging</th>\n",
       "      <th>Others</th>\n",
       "      <th>Social, Finance, Analytics, Advertising</th>\n",
       "    </tr>\n",
       "  </thead>\n",
       "  <tbody>\n",
       "    <tr>\n",
       "      <th>0</th>\n",
       "      <td>NaN</td>\n",
       "      <td>0</td>\n",
       "      <td>1</td>\n",
       "      <td>0</td>\n",
       "      <td>0</td>\n",
       "      <td>0</td>\n",
       "      <td>0</td>\n",
       "      <td>0</td>\n",
       "      <td>0</td>\n",
       "      <td>0</td>\n",
       "    </tr>\n",
       "    <tr>\n",
       "      <th>1</th>\n",
       "      <td>3D</td>\n",
       "      <td>0</td>\n",
       "      <td>0</td>\n",
       "      <td>0</td>\n",
       "      <td>0</td>\n",
       "      <td>0</td>\n",
       "      <td>1</td>\n",
       "      <td>0</td>\n",
       "      <td>0</td>\n",
       "      <td>0</td>\n",
       "    </tr>\n",
       "    <tr>\n",
       "      <th>2</th>\n",
       "      <td>3D Printing</td>\n",
       "      <td>0</td>\n",
       "      <td>0</td>\n",
       "      <td>0</td>\n",
       "      <td>0</td>\n",
       "      <td>0</td>\n",
       "      <td>1</td>\n",
       "      <td>0</td>\n",
       "      <td>0</td>\n",
       "      <td>0</td>\n",
       "    </tr>\n",
       "    <tr>\n",
       "      <th>3</th>\n",
       "      <td>3D Technology</td>\n",
       "      <td>0</td>\n",
       "      <td>0</td>\n",
       "      <td>0</td>\n",
       "      <td>0</td>\n",
       "      <td>0</td>\n",
       "      <td>1</td>\n",
       "      <td>0</td>\n",
       "      <td>0</td>\n",
       "      <td>0</td>\n",
       "    </tr>\n",
       "  </tbody>\n",
       "</table>\n",
       "</div>"
      ],
      "text/plain": [
       "   category_list  Automotive & Sports  Blanks  Cleantech / Semiconductors  \\\n",
       "0            NaN                    0       1                           0   \n",
       "1             3D                    0       0                           0   \n",
       "2    3D Printing                    0       0                           0   \n",
       "3  3D Technology                    0       0                           0   \n",
       "\n",
       "   Entertainment  Health  Manufacturing  News, Search and Messaging  Others  \\\n",
       "0              0       0              0                           0       0   \n",
       "1              0       0              1                           0       0   \n",
       "2              0       0              1                           0       0   \n",
       "3              0       0              1                           0       0   \n",
       "\n",
       "   Social, Finance, Analytics, Advertising  \n",
       "0                                        0  \n",
       "1                                        0  \n",
       "2                                        0  \n",
       "3                                        0  "
      ]
     },
     "execution_count": 1588,
     "metadata": {},
     "output_type": "execute_result"
    }
   ],
   "source": [
    "mapping = pd.read_csv(\"mapping.csv\")\n",
    "mapping.head(4)"
   ]
  },
  {
   "cell_type": "markdown",
   "metadata": {},
   "source": [
    "<h4> Data Cleaning for Mapping Dataframe</h4>"
   ]
  },
  {
   "cell_type": "markdown",
   "metadata": {},
   "source": [
    "**Removing 'Nan' Category from mapping**"
   ]
  },
  {
   "cell_type": "code",
   "execution_count": 1589,
   "metadata": {},
   "outputs": [
    {
     "name": "stdout",
     "output_type": "stream",
     "text": [
      "(688, 10)\n",
      "(687, 10)\n"
     ]
    }
   ],
   "source": [
    "print(mapping.shape)\n",
    "mapping = mapping[mapping.category_list == mapping.category_list]\n",
    "print(mapping.shape)"
   ]
  },
  {
   "cell_type": "markdown",
   "metadata": {},
   "source": [
    "**We could see in the category list that if a character '0' comes in between of any category value, that is misplaced with 'na'**\n",
    "\n",
    "Thus correcting it"
   ]
  },
  {
   "cell_type": "code",
   "execution_count": 1590,
   "metadata": {},
   "outputs": [],
   "source": [
    "mapping.category_list = mapping.category_list.apply(lambda x: x.replace(\"0\", \"na\") if ~x.endswith(\"0\") else x)"
   ]
  },
  {
   "cell_type": "markdown",
   "metadata": {},
   "source": [
    "**Deriving new column 'Sector' into mapping table that will have name of the main sector in which perticular category falls**"
   ]
  },
  {
   "cell_type": "code",
   "execution_count": 1591,
   "metadata": {},
   "outputs": [],
   "source": [
    "sectorList = ['Automotive & Sports','Blanks','Cleantech / Semiconductors','Entertainment','Health','Manufacturing','News, Search and Messaging','Others', 'Social, Finance, Analytics, Advertising']"
   ]
  },
  {
   "cell_type": "code",
   "execution_count": 1592,
   "metadata": {
    "scrolled": true
   },
   "outputs": [],
   "source": [
    "mapping['Sector'] = mapping.category_list.apply(lambda x: sectorList[mapping[mapping.category_list == x].iloc[0].tolist().index(1) - 1])"
   ]
  },
  {
   "cell_type": "markdown",
   "metadata": {},
   "source": [
    "**Removing unnecessary columns from mapping table**"
   ]
  },
  {
   "cell_type": "code",
   "execution_count": 1593,
   "metadata": {},
   "outputs": [],
   "source": [
    "mapping = mapping.drop(sectorList, axis = 1)\n"
   ]
  },
  {
   "cell_type": "markdown",
   "metadata": {},
   "source": [
    "**Renaming the column of Mapping from 'category_list' to 'primary_category'**"
   ]
  },
  {
   "cell_type": "code",
   "execution_count": 1594,
   "metadata": {},
   "outputs": [],
   "source": [
    "mapping = mapping.rename(columns={'category_list': 'primary_category'})"
   ]
  },
  {
   "cell_type": "markdown",
   "metadata": {},
   "source": [
    "<h2>Merging Mapping table into Top 3 contries dataframes (d1, d2, d3)</h2>"
   ]
  },
  {
   "cell_type": "code",
   "execution_count": 1595,
   "metadata": {},
   "outputs": [],
   "source": [
    "#master_frame = pd.merge(left = rounds2, right = companies, how =\"outer\", on =\"primary_category\")\n",
    "d1 = pd.merge(left = d1, right = mapping, how = \"left\", on = \"primary_category\")\n",
    "d2 = pd.merge(left = d2, right = mapping, how = \"left\", on = \"primary_category\")\n",
    "d3 = pd.merge(left = d3, right = mapping, how = \"left\", on = \"primary_category\")"
   ]
  },
  {
   "cell_type": "markdown",
   "metadata": {},
   "source": [
    "<h1>Sector-wise Investment Analysis</h1>"
   ]
  },
  {
   "cell_type": "markdown",
   "metadata": {},
   "source": [
    " 1. Total number of investments (count)"
   ]
  },
  {
   "cell_type": "code",
   "execution_count": 1596,
   "metadata": {},
   "outputs": [
    {
     "name": "stdout",
     "output_type": "stream",
     "text": [
      "Country 1- Total Number  of investemt: 36825\n",
      "Country 2- Total Number  of investemt: 2236\n",
      "Country 3- Total Number  of investemt: 1324\n"
     ]
    }
   ],
   "source": [
    "print(\"Country 1- Total Number  of investemt:\", d1.shape[0])\n",
    "print(\"Country 2- Total Number  of investemt:\", d2.shape[0])\n",
    "print(\"Country 3- Total Number  of investemt:\", d3.shape[0])"
   ]
  },
  {
   "cell_type": "markdown",
   "metadata": {},
   "source": [
    "2. Total amount of investment (USD)"
   ]
  },
  {
   "cell_type": "code",
   "execution_count": 1597,
   "metadata": {},
   "outputs": [
    {
     "name": "stdout",
     "output_type": "stream",
     "text": [
      "Country 1- Total amount  of investemt: 278550479398.0\n",
      "Country 2- Total amount  of investemt: 15414461732.0\n",
      "Country 3- Total amount  of investemt: 8507730301.0\n"
     ]
    }
   ],
   "source": [
    "print(\"Country 1- Total amount  of investemt:\", d1.raised_amount_usd.sum())\n",
    "print(\"Country 2- Total amount  of investemt:\", d2.raised_amount_usd.sum())\n",
    "print(\"Country 3- Total amount  of investemt:\", d3.raised_amount_usd.sum())"
   ]
  },
  {
   "cell_type": "markdown",
   "metadata": {},
   "source": [
    " 3. Top sector (based on count of investments)"
   ]
  },
  {
   "cell_type": "code",
   "execution_count": 1598,
   "metadata": {},
   "outputs": [
    {
     "data": {
      "text/plain": [
       "Others                                     8485\n",
       "Cleantech / Semiconductors                 7649\n",
       "Social, Finance, Analytics, Advertising    7520\n",
       "News, Search and Messaging                 4445\n",
       "Health                                     3296\n",
       "Manufacturing                              2546\n",
       "Entertainment                              1864\n",
       "Automotive & Sports                         531\n",
       "Name: Sector, dtype: int64"
      ]
     },
     "execution_count": 1598,
     "metadata": {},
     "output_type": "execute_result"
    }
   ],
   "source": [
    "d1.Sector.value_counts()"
   ]
  },
  {
   "cell_type": "code",
   "execution_count": 1599,
   "metadata": {},
   "outputs": [
    {
     "name": "stdout",
     "output_type": "stream",
     "text": [
      "Country 1- Top sector (based on count of investments): Others\n",
      "Country 2- Top sector (based on count of investments): Others\n",
      "Country 3- Top sector (based on count of investments): Cleantech / Semiconductors\n"
     ]
    }
   ],
   "source": [
    "print(\"Country 1- Top sector (based on count of investments):\", d1.Sector.value_counts().index[0])\n",
    "print(\"Country 2- Top sector (based on count of investments):\", d2.Sector.value_counts().index[0])\n",
    "print(\"Country 3- Top sector (based on count of investments):\", d3.Sector.value_counts().index[0])\n"
   ]
  },
  {
   "cell_type": "markdown",
   "metadata": {},
   "source": [
    "4. Second-best sector (based on count of investments)"
   ]
  },
  {
   "cell_type": "code",
   "execution_count": 1600,
   "metadata": {},
   "outputs": [
    {
     "name": "stdout",
     "output_type": "stream",
     "text": [
      "Country 1- Second-best sector (based on count of investments): Cleantech / Semiconductors\n",
      "Country 2- Second-best sector (based on count of investments): Social, Finance, Analytics, Advertising\n",
      "Country 3- Second-best sector (based on count of investments): Others\n"
     ]
    }
   ],
   "source": [
    "print(\"Country 1- Second-best sector (based on count of investments):\", d1.Sector.value_counts().index[1])\n",
    "print(\"Country 2- Second-best sector (based on count of investments):\", d2.Sector.value_counts().index[1])\n",
    "print(\"Country 3- Second-best sector (based on count of investments):\", d3.Sector.value_counts().index[1])"
   ]
  },
  {
   "cell_type": "markdown",
   "metadata": {},
   "source": [
    " 5. Third-best sector (based on count of investments)"
   ]
  },
  {
   "cell_type": "code",
   "execution_count": 1601,
   "metadata": {},
   "outputs": [
    {
     "name": "stdout",
     "output_type": "stream",
     "text": [
      "Country 1- Third-best sector (based on count of investments): Social, Finance, Analytics, Advertising\n",
      "Country 2- Third-best sector (based on count of investments): Cleantech / Semiconductors\n",
      "Country 3- Third-best sector (based on count of investments): Social, Finance, Analytics, Advertising\n"
     ]
    }
   ],
   "source": [
    "print(\"Country 1- Third-best sector (based on count of investments):\", d1.Sector.value_counts().index[2])\n",
    "print(\"Country 2- Third-best sector (based on count of investments):\", d2.Sector.value_counts().index[2])\n",
    "print(\"Country 3- Third-best sector (based on count of investments):\", d3.Sector.value_counts().index[2])"
   ]
  },
  {
   "cell_type": "markdown",
   "metadata": {},
   "source": [
    " 6. Number of investments in the top sector (refer to point 3)"
   ]
  },
  {
   "cell_type": "code",
   "execution_count": 1602,
   "metadata": {},
   "outputs": [
    {
     "name": "stdout",
     "output_type": "stream",
     "text": [
      "Country 1- Top sector Number of investments: 8485\n",
      "Country 2- Top sector Number of investments: 564\n",
      "Country 3- Top sector Number of investments: 341\n"
     ]
    }
   ],
   "source": [
    "print(\"Country 1- Top sector Number of investments:\", d1.Sector.value_counts()[0])\n",
    "print(\"Country 2- Top sector Number of investments:\", d2.Sector.value_counts()[0])\n",
    "print(\"Country 3- Top sector Number of investments:\", d3.Sector.value_counts()[0])"
   ]
  },
  {
   "cell_type": "markdown",
   "metadata": {},
   "source": [
    " 7. Number of investments in the second-best sector (refer to point 4)"
   ]
  },
  {
   "cell_type": "code",
   "execution_count": 1603,
   "metadata": {},
   "outputs": [
    {
     "name": "stdout",
     "output_type": "stream",
     "text": [
      "Country 1- Second-best sector Number of investments: 7649\n",
      "Country 2- Second-best sector Number of investments: 464\n",
      "Country 3- Second-best sector Number of investments: 333\n"
     ]
    }
   ],
   "source": [
    "print(\"Country 1- Second-best sector Number of investments:\", d1.Sector.value_counts()[1])\n",
    "print(\"Country 2- Second-best sector Number of investments:\", d2.Sector.value_counts()[1])\n",
    "print(\"Country 3- Second-best sector Number of investments:\", d3.Sector.value_counts()[1])"
   ]
  },
  {
   "cell_type": "markdown",
   "metadata": {},
   "source": [
    " 8. Number of investments in the third-best sector (refer to point 5)"
   ]
  },
  {
   "cell_type": "code",
   "execution_count": 1604,
   "metadata": {},
   "outputs": [
    {
     "name": "stdout",
     "output_type": "stream",
     "text": [
      "Country 1- Third-best sector Number of investments: 7520\n",
      "Country 2- Third-best sector Number of investments: 443\n",
      "Country 3- Third-best sector Number of investments: 237\n"
     ]
    }
   ],
   "source": [
    "print(\"Country 1- Third-best sector Number of investments:\", d1.Sector.value_counts()[2])\n",
    "print(\"Country 2- Third-best sector Number of investments:\", d2.Sector.value_counts()[2])\n",
    "print(\"Country 3- Third-best sector Number of investments:\", d3.Sector.value_counts()[2])"
   ]
  },
  {
   "cell_type": "markdown",
   "metadata": {},
   "source": [
    " 9. For the top sector count-wise (point 3), which company received the highest investment?"
   ]
  },
  {
   "cell_type": "code",
   "execution_count": 1605,
   "metadata": {},
   "outputs": [
    {
     "name": "stdout",
     "output_type": "stream",
     "text": [
      "Country 1 - Top Secotor - Highest paid company Undertone\n",
      "Country 2 - Top Secotor - Highest paid company HouseTrip\n",
      "Country 2 - Top Secotor - Highest paid company Kik\n"
     ]
    },
    {
     "name": "stderr",
     "output_type": "stream",
     "text": [
      "<ipython-input-1605-4805e25f3e7f>:2: UserWarning: Boolean Series key will be reindexed to match DataFrame index.\n",
      "  print(\"Country 2 - Top Secotor - Highest paid company\", list(d2[d1.Sector == 'Social, Finance, Analytics, Advertising'].sort_values(by=['raised_amount_usd'], ascending=False).head(1)['name'])[0])\n",
      "<ipython-input-1605-4805e25f3e7f>:3: UserWarning: Boolean Series key will be reindexed to match DataFrame index.\n",
      "  print(\"Country 2 - Top Secotor - Highest paid company\", list(d3[d1.Sector == 'Others'].sort_values(by=['raised_amount_usd'], ascending=False).head(1)['name'])[0])\n"
     ]
    }
   ],
   "source": [
    "print(\"Country 1 - Top Secotor - Highest paid company\", list(d1[d1.Sector == 'Social, Finance, Analytics, Advertising'].sort_values(by=['raised_amount_usd'], ascending=False).head(1)['name'])[0])\n",
    "print(\"Country 2 - Top Secotor - Highest paid company\", list(d2[d1.Sector == 'Social, Finance, Analytics, Advertising'].sort_values(by=['raised_amount_usd'], ascending=False).head(1)['name'])[0])\n",
    "print(\"Country 2 - Top Secotor - Highest paid company\", list(d3[d1.Sector == 'Others'].sort_values(by=['raised_amount_usd'], ascending=False).head(1)['name'])[0])"
   ]
  },
  {
   "cell_type": "markdown",
   "metadata": {},
   "source": [
    " 10. For the second-best sector count-wise (point 4), which company received the highest investment?"
   ]
  },
  {
   "cell_type": "code",
   "execution_count": 1606,
   "metadata": {},
   "outputs": [
    {
     "name": "stdout",
     "output_type": "stream",
     "text": [
      "Country 1 - second-best Secotor - Highest paid company LifeLock\n",
      "Country 2 - second-best Secotor - Highest paid company Atom Bank\n",
      "Country 2 - second-best Secotor - Highest paid company Skyline International Development\n"
     ]
    },
    {
     "name": "stderr",
     "output_type": "stream",
     "text": [
      "<ipython-input-1606-b8c5fe3000aa>:2: UserWarning: Boolean Series key will be reindexed to match DataFrame index.\n",
      "  print(\"Country 2 - second-best Secotor - Highest paid company\", list(d2[d1.Sector == 'Others'].sort_values(by=['raised_amount_usd'], ascending=False).head(1)['name'])[0])\n",
      "<ipython-input-1606-b8c5fe3000aa>:3: UserWarning: Boolean Series key will be reindexed to match DataFrame index.\n",
      "  print(\"Country 2 - second-best Secotor - Highest paid company\", list(d3[d1.Sector == 'Social, Finance, Analytics, Advertising'].sort_values(by=['raised_amount_usd'], ascending=False).head(1)['name'])[0])\n"
     ]
    }
   ],
   "source": [
    "print(\"Country 1 - second-best Secotor - Highest paid company\", list(d1[d1.Sector == 'Others'].sort_values(by=['raised_amount_usd'], ascending=False).head(1)['name'])[0])\n",
    "print(\"Country 2 - second-best Secotor - Highest paid company\", list(d2[d1.Sector == 'Others'].sort_values(by=['raised_amount_usd'], ascending=False).head(1)['name'])[0])\n",
    "print(\"Country 2 - second-best Secotor - Highest paid company\", list(d3[d1.Sector == 'Social, Finance, Analytics, Advertising'].sort_values(by=['raised_amount_usd'], ascending=False).head(1)['name'])[0])"
   ]
  },
  {
   "cell_type": "markdown",
   "metadata": {},
   "source": [
    "<h1>Charts</h1>"
   ]
  },
  {
   "cell_type": "markdown",
   "metadata": {},
   "source": [
    "**A plot showing the representative amount of investment in each funding type. This chart should make it clear that a certain funding type (FT) is best suited for Spark Funds.**   "
   ]
  },
  {
   "cell_type": "code",
   "execution_count": 1620,
   "metadata": {
    "scrolled": true
   },
   "outputs": [
    {
     "data": {
      "image/png": "[encoded data removed]",
      "text/plain": [
       "<Figure size 720x360 with 1 Axes>"
      ]
     },
     "metadata": {
      "needs_background": "light"
     },
     "output_type": "display_data"
    }
   ],
   "source": [
    "fundByRoundType.plot(kind = 'bar', figsize=(10,5), grid = True)\n",
    "plt.title(\"Representative amount of investment\")\n",
    "plt.xlabel(\"Funding type\")\n",
    "plt.ylabel(\"Raised Fund (scale: 1 = 10 million)\")\n",
    "plt.show()\n"
   ]
  },
  {
   "cell_type": "markdown",
   "metadata": {},
   "source": [
    "**Fund Type wise gernal distribution Riased amount**\n",
    "\n",
    "Boxplots will not only show 25th and 75th percentile, but also show median"
   ]
  },
  {
   "cell_type": "code",
   "execution_count": 1622,
   "metadata": {},
   "outputs": [
    {
     "data": {
      "image/png": "[encoded data removed]",
      "text/plain": [
       "<Figure size 720x720 with 4 Axes>"
      ]
     },
     "metadata": {
      "needs_background": "light"
     },
     "output_type": "display_data"
    }
   ],
   "source": [
    "plotBoxPlotForMasterDataframe()"
   ]
  },
  {
   "cell_type": "markdown",
   "metadata": {},
   "source": [
    "**A plot showing the top 9 countries against the total amount of investments of funding type FT. This should make the top 3 countries (Country 1, Country 2, and Country 3) very clear.**    "
   ]
  },
  {
   "cell_type": "markdown",
   "metadata": {},
   "source": [
    "Overall Funding"
   ]
  },
  {
   "cell_type": "code",
   "execution_count": 1624,
   "metadata": {},
   "outputs": [
    {
     "data": {
      "image/png": "[encoded data removed]",
      "text/plain": [
       "<Figure size 720x360 with 1 Axes>"
      ]
     },
     "metadata": {
      "needs_background": "light"
     },
     "output_type": "display_data"
    }
   ],
   "source": [
    "top9.plot(kind = 'bar',figsize=(10,5), grid = True)\n",
    "plt.xlabel(\"Top 9 Countries\")\n",
    "plt.ylabel(\"Total amount of investments - accross all four funding type\")\n"
   ]
  },
  {
   "cell_type": "code",
   "execution_count": 1625,
   "metadata": {
    "scrolled": false
   },
   "outputs": [
    {
     "data": {
      "image/png": "[encoded data removed]",
      "text/plain": [
       "<Figure size 720x576 with 1 Axes>"
      ]
     },
     "metadata": {
      "needs_background": "light"
     },
     "output_type": "display_data"
    }
   ],
   "source": [
    "top9CounryVentureData = master_frame[(master_frame.funding_round_type == \"venture\") & master_frame.country_code.isin(list(top9.index))]\n",
    "top9CounryVentureData.groupby(['country_code']).sum()['raised_amount_usd'].plot(kind = 'bar',figsize=(10,8), grid = True)\n",
    "plt.xlabel(\"Top 9 Countries\")\n",
    "plt.ylabel(\"Total number of investments in Venture Type funding\")"
   ]
  },
  {
   "cell_type": "markdown",
   "metadata": {},
   "source": [
    "Funding in 'Venture' Type"
   ]
  },
  {
   "cell_type": "markdown",
   "metadata": {},
   "source": [
    "**A plot showing the number of investments in the top 3 sectors of the top 3 countries on one chart (for the chosen investment type FT). This plot should clearly display the top 3 sectors each in Country 1, Country 2, and Country 3.**"
   ]
  },
  {
   "cell_type": "code",
   "execution_count": 1627,
   "metadata": {},
   "outputs": [],
   "source": [
    "topSectorsInUSA = d1[d1.Sector.isin(['Social, Finance, Analytics, Advertising', 'Others', 'Cleantech / Semiconductors'])]\n",
    "topSectorsInGBR = d2[d2.Sector.isin(['Social, Finance, Analytics, Advertising', 'Others', 'Cleantech / Semiconductors'])]\n",
    "topSectorsInCAN = d3[d3.Sector.isin(['Others', 'Social, Finance, Analytics, Advertising', 'Cleantech / Semiconductors'])]"
   ]
  },
  {
   "cell_type": "code",
   "execution_count": 1628,
   "metadata": {},
   "outputs": [
    {
     "data": {
      "text/html": [
       "<div>\n",
       "<style scoped>\n",
       "    .dataframe tbody tr th:only-of-type {\n",
       "        vertical-align: middle;\n",
       "    }\n",
       "\n",
       "    .dataframe tbody tr th {\n",
       "        vertical-align: top;\n",
       "    }\n",
       "\n",
       "    .dataframe thead th {\n",
       "        text-align: right;\n",
       "    }\n",
       "</style>\n",
       "<table border=\"1\" class=\"dataframe\">\n",
       "  <thead>\n",
       "    <tr style=\"text-align: right;\">\n",
       "      <th></th>\n",
       "      <th>funding_round_type</th>\n",
       "      <th>country_code</th>\n",
       "      <th>Sector</th>\n",
       "    </tr>\n",
       "  </thead>\n",
       "  <tbody>\n",
       "    <tr>\n",
       "      <th>1</th>\n",
       "      <td>venture</td>\n",
       "      <td>USA</td>\n",
       "      <td>Others</td>\n",
       "    </tr>\n",
       "    <tr>\n",
       "      <th>2</th>\n",
       "      <td>venture</td>\n",
       "      <td>USA</td>\n",
       "      <td>Social, Finance, Analytics, Advertising</td>\n",
       "    </tr>\n",
       "    <tr>\n",
       "      <th>3</th>\n",
       "      <td>venture</td>\n",
       "      <td>USA</td>\n",
       "      <td>Social, Finance, Analytics, Advertising</td>\n",
       "    </tr>\n",
       "    <tr>\n",
       "      <th>4</th>\n",
       "      <td>venture</td>\n",
       "      <td>USA</td>\n",
       "      <td>Social, Finance, Analytics, Advertising</td>\n",
       "    </tr>\n",
       "    <tr>\n",
       "      <th>13</th>\n",
       "      <td>venture</td>\n",
       "      <td>USA</td>\n",
       "      <td>Social, Finance, Analytics, Advertising</td>\n",
       "    </tr>\n",
       "    <tr>\n",
       "      <th>...</th>\n",
       "      <td>...</td>\n",
       "      <td>...</td>\n",
       "      <td>...</td>\n",
       "    </tr>\n",
       "    <tr>\n",
       "      <th>1319</th>\n",
       "      <td>venture</td>\n",
       "      <td>CAN</td>\n",
       "      <td>Cleantech / Semiconductors</td>\n",
       "    </tr>\n",
       "    <tr>\n",
       "      <th>1320</th>\n",
       "      <td>venture</td>\n",
       "      <td>CAN</td>\n",
       "      <td>Cleantech / Semiconductors</td>\n",
       "    </tr>\n",
       "    <tr>\n",
       "      <th>1321</th>\n",
       "      <td>venture</td>\n",
       "      <td>CAN</td>\n",
       "      <td>Cleantech / Semiconductors</td>\n",
       "    </tr>\n",
       "    <tr>\n",
       "      <th>1322</th>\n",
       "      <td>venture</td>\n",
       "      <td>CAN</td>\n",
       "      <td>Cleantech / Semiconductors</td>\n",
       "    </tr>\n",
       "    <tr>\n",
       "      <th>1323</th>\n",
       "      <td>venture</td>\n",
       "      <td>CAN</td>\n",
       "      <td>Cleantech / Semiconductors</td>\n",
       "    </tr>\n",
       "  </tbody>\n",
       "</table>\n",
       "<p>26036 rows × 3 columns</p>\n",
       "</div>"
      ],
      "text/plain": [
       "     funding_round_type country_code                                   Sector\n",
       "1               venture          USA                                   Others\n",
       "2               venture          USA  Social, Finance, Analytics, Advertising\n",
       "3               venture          USA  Social, Finance, Analytics, Advertising\n",
       "4               venture          USA  Social, Finance, Analytics, Advertising\n",
       "13              venture          USA  Social, Finance, Analytics, Advertising\n",
       "...                 ...          ...                                      ...\n",
       "1319            venture          CAN               Cleantech / Semiconductors\n",
       "1320            venture          CAN               Cleantech / Semiconductors\n",
       "1321            venture          CAN               Cleantech / Semiconductors\n",
       "1322            venture          CAN               Cleantech / Semiconductors\n",
       "1323            venture          CAN               Cleantech / Semiconductors\n",
       "\n",
       "[26036 rows x 3 columns]"
      ]
     },
     "execution_count": 1628,
     "metadata": {},
     "output_type": "execute_result"
    }
   ],
   "source": [
    "topSecInTop3Cont = pd.concat([topSectorsInUSA, topSectorsInGBR, topSectorsInCAN])\n",
    "topSecInTop3Cont = topSecInTop3Cont.drop(['permalink', 'funding_round_permalink', 'raised_amount_usd', 'name', 'category_list', 'status', 'primary_category'], axis = 1)\n",
    "topSecInTop3Cont"
   ]
  },
  {
   "cell_type": "code",
   "execution_count": 1629,
   "metadata": {},
   "outputs": [
    {
     "data": {
      "text/html": [
       "<div>\n",
       "<style scoped>\n",
       "    .dataframe tbody tr th:only-of-type {\n",
       "        vertical-align: middle;\n",
       "    }\n",
       "\n",
       "    .dataframe tbody tr th {\n",
       "        vertical-align: top;\n",
       "    }\n",
       "\n",
       "    .dataframe thead th {\n",
       "        text-align: right;\n",
       "    }\n",
       "</style>\n",
       "<table border=\"1\" class=\"dataframe\">\n",
       "  <thead>\n",
       "    <tr style=\"text-align: right;\">\n",
       "      <th></th>\n",
       "      <th>country_code</th>\n",
       "      <th>CAN</th>\n",
       "      <th>GBR</th>\n",
       "      <th>USA</th>\n",
       "    </tr>\n",
       "    <tr>\n",
       "      <th>funding_round_type</th>\n",
       "      <th>Sector</th>\n",
       "      <th></th>\n",
       "      <th></th>\n",
       "      <th></th>\n",
       "    </tr>\n",
       "  </thead>\n",
       "  <tbody>\n",
       "    <tr>\n",
       "      <th rowspan=\"3\" valign=\"top\">venture</th>\n",
       "      <th>Cleantech / Semiconductors</th>\n",
       "      <td>341</td>\n",
       "      <td>443</td>\n",
       "      <td>7649</td>\n",
       "    </tr>\n",
       "    <tr>\n",
       "      <th>Others</th>\n",
       "      <td>333</td>\n",
       "      <td>564</td>\n",
       "      <td>8485</td>\n",
       "    </tr>\n",
       "    <tr>\n",
       "      <th>Social, Finance, Analytics, Advertising</th>\n",
       "      <td>237</td>\n",
       "      <td>464</td>\n",
       "      <td>7520</td>\n",
       "    </tr>\n",
       "  </tbody>\n",
       "</table>\n",
       "</div>"
      ],
      "text/plain": [
       "country_code                                                CAN  GBR   USA\n",
       "funding_round_type Sector                                                 \n",
       "venture            Cleantech / Semiconductors               341  443  7649\n",
       "                   Others                                   333  564  8485\n",
       "                   Social, Finance, Analytics, Advertising  237  464  7520"
      ]
     },
     "execution_count": 1629,
     "metadata": {},
     "output_type": "execute_result"
    }
   ],
   "source": [
    "pTabTopSecInTop3Cont = pd.pivot_table(topSecInTop3Cont, index=['funding_round_type', 'Sector'],\n",
    "                    columns=['country_code'], aggfunc= lambda x: len(x))\n",
    "pTabTopSecInTop3Cont"
   ]
  },
  {
   "cell_type": "code",
   "execution_count": 1632,
   "metadata": {},
   "outputs": [
    {
     "data": {
      "image/png": "[encoded data removed]",
      "text/plain": [
       "<Figure size 720x720 with 1 Axes>"
      ]
     },
     "metadata": {
      "needs_background": "light"
     },
     "output_type": "display_data"
    }
   ],
   "source": [
    "#pTabTopSecInTop3Cont[ventureType].plot(kind = 'bar', figsize=(10,10))\n",
    "pTabTopSecInTop3Cont.plot(kind = 'bar', figsize=(10,10))"
   ]
  },
  {
   "cell_type": "code",
   "execution_count": null,
   "metadata": {},
   "outputs": [],
   "source": []
  }
 ],
 "metadata": {
  "kernelspec": {
   "display_name": "Python 3",
   "language": "python",
   "name": "python3"
  },
  "language_info": {
   "codemirror_mode": {
    "name": "ipython",
    "version": 3
   },
   "file_extension": ".py",
   "mimetype": "text/x-python",
   "name": "python",
   "nbconvert_exporter": "python",
   "pygments_lexer": "ipython3",
   "version": "3.8.5"
  }
 },
 "nbformat": 4,
 "nbformat_minor": 4
}
